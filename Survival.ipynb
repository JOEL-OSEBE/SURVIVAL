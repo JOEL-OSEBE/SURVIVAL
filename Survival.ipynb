{
 "cells": [
  {
   "cell_type": "markdown",
   "metadata": {},
   "source": [
    "# SURVIVAL ANALYSIS"
   ]
  },
  {
   "cell_type": "code",
   "execution_count": 1,
   "metadata": {},
   "outputs": [],
   "source": [
    "import pandas as pd\n",
    "import numpy as np\n",
    "import matplotlib.pyplot as plt\n",
    "import seaborn as sns"
   ]
  },
  {
   "cell_type": "code",
   "execution_count": 2,
   "metadata": {},
   "outputs": [],
   "source": [
    "# Import Obituaries dataset\n",
    "Ob=pd.read_csv(\"C:/Users/Me/Desktop/Data Science/I&M BANK/ObituariesDataset.csv\",parse_dates=True,thousands=\",\",index_col=[0])"
   ]
  },
  {
   "cell_type": "code",
   "execution_count": 3,
   "metadata": {
    "scrolled": false
   },
   "outputs": [
    {
     "data": {
      "text/html": [
       "<div>\n",
       "<style scoped>\n",
       "    .dataframe tbody tr th:only-of-type {\n",
       "        vertical-align: middle;\n",
       "    }\n",
       "\n",
       "    .dataframe tbody tr th {\n",
       "        vertical-align: top;\n",
       "    }\n",
       "\n",
       "    .dataframe thead th {\n",
       "        text-align: right;\n",
       "    }\n",
       "</style>\n",
       "<table border=\"1\" class=\"dataframe\">\n",
       "  <thead>\n",
       "    <tr style=\"text-align: right;\">\n",
       "      <th></th>\n",
       "      <th>Announcement</th>\n",
       "      <th>Death</th>\n",
       "      <th>Burial</th>\n",
       "      <th>Burial_Day</th>\n",
       "      <th>Burial_Week</th>\n",
       "      <th>Gender</th>\n",
       "      <th>Age</th>\n",
       "      <th>Color</th>\n",
       "      <th>Size</th>\n",
       "      <th>Word_Count</th>\n",
       "      <th>...</th>\n",
       "      <th>Morgue</th>\n",
       "      <th>Same_Morgue</th>\n",
       "      <th>Cost_Morgue</th>\n",
       "      <th>Occupation</th>\n",
       "      <th>Repetition</th>\n",
       "      <th>Corporate</th>\n",
       "      <th>Corporate_Name</th>\n",
       "      <th>Residence</th>\n",
       "      <th>Residence_Name</th>\n",
       "      <th>Residence_Category</th>\n",
       "    </tr>\n",
       "    <tr>\n",
       "      <th>Name</th>\n",
       "      <th></th>\n",
       "      <th></th>\n",
       "      <th></th>\n",
       "      <th></th>\n",
       "      <th></th>\n",
       "      <th></th>\n",
       "      <th></th>\n",
       "      <th></th>\n",
       "      <th></th>\n",
       "      <th></th>\n",
       "      <th></th>\n",
       "      <th></th>\n",
       "      <th></th>\n",
       "      <th></th>\n",
       "      <th></th>\n",
       "      <th></th>\n",
       "      <th></th>\n",
       "      <th></th>\n",
       "      <th></th>\n",
       "      <th></th>\n",
       "      <th></th>\n",
       "    </tr>\n",
       "  </thead>\n",
       "  <tbody>\n",
       "    <tr>\n",
       "      <td>Eng. Paul Chemweno</td>\n",
       "      <td>11/8/2017</td>\n",
       "      <td>11/2/2017</td>\n",
       "      <td>11/17/2017</td>\n",
       "      <td>Friday</td>\n",
       "      <td>Weekday</td>\n",
       "      <td>Male</td>\n",
       "      <td>66.0</td>\n",
       "      <td>Yes</td>\n",
       "      <td>55.18</td>\n",
       "      <td>179.0</td>\n",
       "      <td>...</td>\n",
       "      <td>MTRH Eldoret</td>\n",
       "      <td>No</td>\n",
       "      <td>NaN</td>\n",
       "      <td>Director</td>\n",
       "      <td>NaN</td>\n",
       "      <td>NaN</td>\n",
       "      <td>NaN</td>\n",
       "      <td>NaN</td>\n",
       "      <td>NaN</td>\n",
       "      <td>NaN</td>\n",
       "    </tr>\n",
       "    <tr>\n",
       "      <td>Edith Kiende Kiogora</td>\n",
       "      <td>11/8/2017</td>\n",
       "      <td>10/27/2017</td>\n",
       "      <td>11/11/2017</td>\n",
       "      <td>Saturday</td>\n",
       "      <td>Weekend</td>\n",
       "      <td>Female</td>\n",
       "      <td>43.0</td>\n",
       "      <td>Yes</td>\n",
       "      <td>83.60</td>\n",
       "      <td>293.0</td>\n",
       "      <td>...</td>\n",
       "      <td>Chogoria Hospital Mortuary</td>\n",
       "      <td>No</td>\n",
       "      <td>NaN</td>\n",
       "      <td>Teacher</td>\n",
       "      <td>NaN</td>\n",
       "      <td>NaN</td>\n",
       "      <td>NaN</td>\n",
       "      <td>NaN</td>\n",
       "      <td>NaN</td>\n",
       "      <td>NaN</td>\n",
       "    </tr>\n",
       "    <tr>\n",
       "      <td>Simon Muchiri Ngigii Mbaria</td>\n",
       "      <td>11/8/2017</td>\n",
       "      <td>11/1/2017</td>\n",
       "      <td>11/8/2017</td>\n",
       "      <td>Wednesday</td>\n",
       "      <td>Weekday</td>\n",
       "      <td>Male</td>\n",
       "      <td>35.0</td>\n",
       "      <td>Yes</td>\n",
       "      <td>109.12</td>\n",
       "      <td>206.0</td>\n",
       "      <td>...</td>\n",
       "      <td>Umash Nakuru</td>\n",
       "      <td>No</td>\n",
       "      <td>NaN</td>\n",
       "      <td>Teacher</td>\n",
       "      <td>NaN</td>\n",
       "      <td>NaN</td>\n",
       "      <td>NaN</td>\n",
       "      <td>NaN</td>\n",
       "      <td>NaN</td>\n",
       "      <td>NaN</td>\n",
       "    </tr>\n",
       "    <tr>\n",
       "      <td>Mwalimu Erick Namusasi Werunga</td>\n",
       "      <td>11/8/2017</td>\n",
       "      <td>10/24/2017</td>\n",
       "      <td>11/9/2017</td>\n",
       "      <td>Thursday</td>\n",
       "      <td>Weekday</td>\n",
       "      <td>Male</td>\n",
       "      <td>54.0</td>\n",
       "      <td>Yes</td>\n",
       "      <td>83.60</td>\n",
       "      <td>171.0</td>\n",
       "      <td>...</td>\n",
       "      <td>Maida Mortuary</td>\n",
       "      <td>NaN</td>\n",
       "      <td>NaN</td>\n",
       "      <td>Teacher</td>\n",
       "      <td>NaN</td>\n",
       "      <td>NaN</td>\n",
       "      <td>NaN</td>\n",
       "      <td>NaN</td>\n",
       "      <td>NaN</td>\n",
       "      <td>NaN</td>\n",
       "    </tr>\n",
       "    <tr>\n",
       "      <td>Catherine Mueni Sina</td>\n",
       "      <td>11/8/2017</td>\n",
       "      <td>11/2/2017</td>\n",
       "      <td>11/11/2017</td>\n",
       "      <td>Saturday</td>\n",
       "      <td>Weekend</td>\n",
       "      <td>Female</td>\n",
       "      <td>41.0</td>\n",
       "      <td>No</td>\n",
       "      <td>55.18</td>\n",
       "      <td>150.0</td>\n",
       "      <td>...</td>\n",
       "      <td>NaN</td>\n",
       "      <td>NaN</td>\n",
       "      <td>NaN</td>\n",
       "      <td>NaN</td>\n",
       "      <td>NaN</td>\n",
       "      <td>NaN</td>\n",
       "      <td>NaN</td>\n",
       "      <td>NaN</td>\n",
       "      <td>NaN</td>\n",
       "      <td>NaN</td>\n",
       "    </tr>\n",
       "  </tbody>\n",
       "</table>\n",
       "<p>5 rows × 38 columns</p>\n",
       "</div>"
      ],
      "text/plain": [
       "                               Announcement       Death      Burial  \\\n",
       "Name                                                                  \n",
       "Eng. Paul Chemweno                11/8/2017   11/2/2017  11/17/2017   \n",
       "Edith Kiende Kiogora              11/8/2017  10/27/2017  11/11/2017   \n",
       "Simon Muchiri Ngigii Mbaria       11/8/2017   11/1/2017   11/8/2017   \n",
       "Mwalimu Erick Namusasi Werunga    11/8/2017  10/24/2017   11/9/2017   \n",
       "Catherine Mueni Sina              11/8/2017   11/2/2017  11/11/2017   \n",
       "\n",
       "                               Burial_Day Burial_Week  Gender   Age Color  \\\n",
       "Name                                                                        \n",
       "Eng. Paul Chemweno                 Friday     Weekday    Male  66.0   Yes   \n",
       "Edith Kiende Kiogora             Saturday     Weekend  Female  43.0   Yes   \n",
       "Simon Muchiri Ngigii Mbaria     Wednesday     Weekday    Male  35.0   Yes   \n",
       "Mwalimu Erick Namusasi Werunga   Thursday     Weekday    Male  54.0   Yes   \n",
       "Catherine Mueni Sina             Saturday     Weekend  Female  41.0    No   \n",
       "\n",
       "                                  Size  Word_Count  ...  \\\n",
       "Name                                                ...   \n",
       "Eng. Paul Chemweno               55.18       179.0  ...   \n",
       "Edith Kiende Kiogora             83.60       293.0  ...   \n",
       "Simon Muchiri Ngigii Mbaria     109.12       206.0  ...   \n",
       "Mwalimu Erick Namusasi Werunga   83.60       171.0  ...   \n",
       "Catherine Mueni Sina             55.18       150.0  ...   \n",
       "\n",
       "                                                    Morgue  Same_Morgue  \\\n",
       "Name                                                                      \n",
       "Eng. Paul Chemweno                            MTRH Eldoret           No   \n",
       "Edith Kiende Kiogora            Chogoria Hospital Mortuary           No   \n",
       "Simon Muchiri Ngigii Mbaria                   Umash Nakuru           No   \n",
       "Mwalimu Erick Namusasi Werunga              Maida Mortuary          NaN   \n",
       "Catherine Mueni Sina                                   NaN          NaN   \n",
       "\n",
       "                                Cost_Morgue Occupation Repetition Corporate  \\\n",
       "Name                                                                          \n",
       "Eng. Paul Chemweno                      NaN   Director        NaN       NaN   \n",
       "Edith Kiende Kiogora                    NaN    Teacher        NaN       NaN   \n",
       "Simon Muchiri Ngigii Mbaria             NaN    Teacher        NaN       NaN   \n",
       "Mwalimu Erick Namusasi Werunga          NaN    Teacher        NaN       NaN   \n",
       "Catherine Mueni Sina                    NaN        NaN        NaN       NaN   \n",
       "\n",
       "                               Corporate_Name Residence Residence_Name  \\\n",
       "Name                                                                     \n",
       "Eng. Paul Chemweno                        NaN       NaN            NaN   \n",
       "Edith Kiende Kiogora                      NaN       NaN            NaN   \n",
       "Simon Muchiri Ngigii Mbaria               NaN       NaN            NaN   \n",
       "Mwalimu Erick Namusasi Werunga            NaN       NaN            NaN   \n",
       "Catherine Mueni Sina                      NaN       NaN            NaN   \n",
       "\n",
       "                               Residence_Category  \n",
       "Name                                               \n",
       "Eng. Paul Chemweno                            NaN  \n",
       "Edith Kiende Kiogora                          NaN  \n",
       "Simon Muchiri Ngigii Mbaria                   NaN  \n",
       "Mwalimu Erick Namusasi Werunga                NaN  \n",
       "Catherine Mueni Sina                          NaN  \n",
       "\n",
       "[5 rows x 38 columns]"
      ]
     },
     "execution_count": 3,
     "metadata": {},
     "output_type": "execute_result"
    }
   ],
   "source": [
    "# Top 6 of dataset\n",
    "Ob.head(5)"
   ]
  },
  {
   "cell_type": "code",
   "execution_count": 4,
   "metadata": {},
   "outputs": [
    {
     "data": {
      "text/plain": [
       "Index(['Announcement', 'Death', 'Burial', 'Burial_Day', 'Burial_Week',\n",
       "       'Gender', 'Age', 'Color', 'Size', 'Word_Count', 'No_of_Children',\n",
       "       'Significant_Children', 'Significant_Relatives', 'Fundraising',\n",
       "       'Death_to_Announce', 'Death_to_Burial', 'Announce_to_Burial',\n",
       "       'No_of_Relatives', 'County_Burial', 'County_Death', 'County_Morgue',\n",
       "       'Distance_Death', 'Distance_Morgue', 'Cause_of_Death', 'Married',\n",
       "       'Spouse_Alive', 'Spouse_gender', 'Hospital', 'Morgue', 'Same_Morgue',\n",
       "       'Cost_Morgue', 'Occupation', 'Repetition', 'Corporate',\n",
       "       'Corporate_Name', 'Residence', 'Residence_Name', 'Residence_Category'],\n",
       "      dtype='object')"
      ]
     },
     "execution_count": 4,
     "metadata": {},
     "output_type": "execute_result"
    }
   ],
   "source": [
    "# Columns of the dataset\n",
    "Ob.columns"
   ]
  },
  {
   "cell_type": "code",
   "execution_count": 5,
   "metadata": {},
   "outputs": [
    {
     "data": {
      "text/plain": [
       "(1291, 38)"
      ]
     },
     "execution_count": 5,
     "metadata": {},
     "output_type": "execute_result"
    }
   ],
   "source": [
    "Ob.shape"
   ]
  },
  {
   "cell_type": "code",
   "execution_count": 6,
   "metadata": {},
   "outputs": [],
   "source": [
    "# Slice the dataset\n",
    "Ob_s=Ob.loc[:,[\"Death\",\"Burial\",\"Spouse_gender\",\"Death_to_Burial\"]]"
   ]
  },
  {
   "cell_type": "code",
   "execution_count": 7,
   "metadata": {},
   "outputs": [
    {
     "data": {
      "text/html": [
       "<div>\n",
       "<style scoped>\n",
       "    .dataframe tbody tr th:only-of-type {\n",
       "        vertical-align: middle;\n",
       "    }\n",
       "\n",
       "    .dataframe tbody tr th {\n",
       "        vertical-align: top;\n",
       "    }\n",
       "\n",
       "    .dataframe thead th {\n",
       "        text-align: right;\n",
       "    }\n",
       "</style>\n",
       "<table border=\"1\" class=\"dataframe\">\n",
       "  <thead>\n",
       "    <tr style=\"text-align: right;\">\n",
       "      <th></th>\n",
       "      <th>Death</th>\n",
       "      <th>Burial</th>\n",
       "      <th>Spouse_gender</th>\n",
       "      <th>Death_to_Burial</th>\n",
       "    </tr>\n",
       "    <tr>\n",
       "      <th>Name</th>\n",
       "      <th></th>\n",
       "      <th></th>\n",
       "      <th></th>\n",
       "      <th></th>\n",
       "    </tr>\n",
       "  </thead>\n",
       "  <tbody>\n",
       "    <tr>\n",
       "      <td>Eng. Paul Chemweno</td>\n",
       "      <td>11/2/2017</td>\n",
       "      <td>11/17/2017</td>\n",
       "      <td>Female</td>\n",
       "      <td>15</td>\n",
       "    </tr>\n",
       "    <tr>\n",
       "      <td>Edith Kiende Kiogora</td>\n",
       "      <td>10/27/2017</td>\n",
       "      <td>11/11/2017</td>\n",
       "      <td>Male</td>\n",
       "      <td>15</td>\n",
       "    </tr>\n",
       "    <tr>\n",
       "      <td>Simon Muchiri Ngigii Mbaria</td>\n",
       "      <td>11/1/2017</td>\n",
       "      <td>11/8/2017</td>\n",
       "      <td>Female</td>\n",
       "      <td>7</td>\n",
       "    </tr>\n",
       "    <tr>\n",
       "      <td>Mwalimu Erick Namusasi Werunga</td>\n",
       "      <td>10/24/2017</td>\n",
       "      <td>11/9/2017</td>\n",
       "      <td>Female</td>\n",
       "      <td>16</td>\n",
       "    </tr>\n",
       "  </tbody>\n",
       "</table>\n",
       "</div>"
      ],
      "text/plain": [
       "                                     Death      Burial Spouse_gender  \\\n",
       "Name                                                                   \n",
       "Eng. Paul Chemweno               11/2/2017  11/17/2017        Female   \n",
       "Edith Kiende Kiogora            10/27/2017  11/11/2017          Male   \n",
       "Simon Muchiri Ngigii Mbaria      11/1/2017   11/8/2017        Female   \n",
       "Mwalimu Erick Namusasi Werunga  10/24/2017   11/9/2017        Female   \n",
       "\n",
       "                               Death_to_Burial  \n",
       "Name                                            \n",
       "Eng. Paul Chemweno                          15  \n",
       "Edith Kiende Kiogora                        15  \n",
       "Simon Muchiri Ngigii Mbaria                  7  \n",
       "Mwalimu Erick Namusasi Werunga              16  "
      ]
     },
     "execution_count": 7,
     "metadata": {},
     "output_type": "execute_result"
    }
   ],
   "source": [
    "Ob_s.head(4)"
   ]
  },
  {
   "cell_type": "code",
   "execution_count": 8,
   "metadata": {},
   "outputs": [
    {
     "data": {
      "text/html": [
       "<div>\n",
       "<style scoped>\n",
       "    .dataframe tbody tr th:only-of-type {\n",
       "        vertical-align: middle;\n",
       "    }\n",
       "\n",
       "    .dataframe tbody tr th {\n",
       "        vertical-align: top;\n",
       "    }\n",
       "\n",
       "    .dataframe thead th {\n",
       "        text-align: right;\n",
       "    }\n",
       "</style>\n",
       "<table border=\"1\" class=\"dataframe\">\n",
       "  <thead>\n",
       "    <tr style=\"text-align: right;\">\n",
       "      <th></th>\n",
       "      <th>Death</th>\n",
       "      <th>Burial</th>\n",
       "      <th>Spouse_gender</th>\n",
       "      <th>Death_to_Burial</th>\n",
       "    </tr>\n",
       "    <tr>\n",
       "      <th>Name</th>\n",
       "      <th></th>\n",
       "      <th></th>\n",
       "      <th></th>\n",
       "      <th></th>\n",
       "    </tr>\n",
       "  </thead>\n",
       "  <tbody>\n",
       "    <tr>\n",
       "      <td>Mama Agnes Omwenga Nyakundi</td>\n",
       "      <td>3/12/2017</td>\n",
       "      <td>3/24/2017</td>\n",
       "      <td>Male</td>\n",
       "      <td>12</td>\n",
       "    </tr>\n",
       "    <tr>\n",
       "      <td>Mrs Jane Wanjiru Kaniu(Nyina Wa Andu)</td>\n",
       "      <td>3/11/2017</td>\n",
       "      <td>3/22/2017</td>\n",
       "      <td>Male</td>\n",
       "      <td>11</td>\n",
       "    </tr>\n",
       "    <tr>\n",
       "      <td>Snr. Insp. Of Police Betty Cherono Soi</td>\n",
       "      <td>NaN</td>\n",
       "      <td>3/18/2017</td>\n",
       "      <td>NaN</td>\n",
       "      <td>42,812</td>\n",
       "    </tr>\n",
       "    <tr>\n",
       "      <td>Mzee Muliko Kimanga</td>\n",
       "      <td>3/12/2017</td>\n",
       "      <td>3/18/2017</td>\n",
       "      <td>Female</td>\n",
       "      <td>6</td>\n",
       "    </tr>\n",
       "  </tbody>\n",
       "</table>\n",
       "</div>"
      ],
      "text/plain": [
       "                                            Death     Burial Spouse_gender  \\\n",
       "Name                                                                         \n",
       "Mama Agnes Omwenga Nyakundi             3/12/2017  3/24/2017          Male   \n",
       "Mrs Jane Wanjiru Kaniu(Nyina Wa Andu)   3/11/2017  3/22/2017          Male   \n",
       "Snr. Insp. Of Police Betty Cherono Soi        NaN  3/18/2017           NaN   \n",
       "Mzee Muliko Kimanga                     3/12/2017  3/18/2017        Female   \n",
       "\n",
       "                                       Death_to_Burial  \n",
       "Name                                                    \n",
       "Mama Agnes Omwenga Nyakundi                         12  \n",
       "Mrs Jane Wanjiru Kaniu(Nyina Wa Andu)               11  \n",
       "Snr. Insp. Of Police Betty Cherono Soi          42,812  \n",
       "Mzee Muliko Kimanga                                  6  "
      ]
     },
     "execution_count": 8,
     "metadata": {},
     "output_type": "execute_result"
    }
   ],
   "source": [
    "Ob_s.tail(4)"
   ]
  },
  {
   "cell_type": "code",
   "execution_count": 9,
   "metadata": {
    "scrolled": true
   },
   "outputs": [
    {
     "name": "stdout",
     "output_type": "stream",
     "text": [
      "<class 'pandas.core.frame.DataFrame'>\n",
      "Index: 1291 entries, Eng. Paul Chemweno to Mzee Muliko Kimanga\n",
      "Data columns (total 4 columns):\n",
      "Death              893 non-null object\n",
      "Burial             1164 non-null object\n",
      "Spouse_gender      935 non-null object\n",
      "Death_to_Burial    1244 non-null object\n",
      "dtypes: object(4)\n",
      "memory usage: 50.4+ KB\n"
     ]
    }
   ],
   "source": [
    "Ob_s.info()"
   ]
  },
  {
   "cell_type": "code",
   "execution_count": 10,
   "metadata": {},
   "outputs": [],
   "source": [
    "Ob_s[\"Death_to_Burial\"].fillna(value=Ob_s[\"Death_to_Burial\"].mode(),inplace=True)"
   ]
  },
  {
   "cell_type": "code",
   "execution_count": 11,
   "metadata": {},
   "outputs": [],
   "source": [
    "Ob_s[\"Spouse_gender\"].fillna(value=Ob_s[\"Spouse_gender\"].mode(),inplace=True)"
   ]
  },
  {
   "cell_type": "code",
   "execution_count": 12,
   "metadata": {
    "scrolled": true
   },
   "outputs": [
    {
     "name": "stdout",
     "output_type": "stream",
     "text": [
      "<class 'pandas.core.frame.DataFrame'>\n",
      "Index: 1291 entries, Eng. Paul Chemweno to Mzee Muliko Kimanga\n",
      "Data columns (total 4 columns):\n",
      "Death              893 non-null object\n",
      "Burial             1164 non-null object\n",
      "Spouse_gender      935 non-null category\n",
      "Death_to_Burial    904 non-null float64\n",
      "dtypes: category(1), float64(1), object(2)\n",
      "memory usage: 41.7+ KB\n"
     ]
    }
   ],
   "source": [
    "Ob_s[\"Death_to_Burial\"] = pd.to_numeric(Ob_s[\"Death_to_Burial\"],errors=\"coerce\") # They are number of days\n",
    "Ob_s[\"Spouse_gender\"]=pd.Categorical(Ob_s[\"Spouse_gender\"])# Due to classification Male/Female\n",
    "Ob_s.info()"
   ]
  },
  {
   "cell_type": "code",
   "execution_count": 13,
   "metadata": {},
   "outputs": [],
   "source": [
    "Ob_s.fillna(method=\"ffill\",inplace=True)"
   ]
  },
  {
   "cell_type": "code",
   "execution_count": 14,
   "metadata": {},
   "outputs": [
    {
     "data": {
      "text/plain": [
       "[Female, Male, None]\n",
       "Categories (3, object): [Female, Male, None]"
      ]
     },
     "execution_count": 14,
     "metadata": {},
     "output_type": "execute_result"
    }
   ],
   "source": [
    "Ob_s[\"Spouse_gender\"].unique()"
   ]
  },
  {
   "cell_type": "code",
   "execution_count": 15,
   "metadata": {},
   "outputs": [
    {
     "data": {
      "text/plain": [
       "0    Female\n",
       "Name: Spouse_gender, dtype: category\n",
       "Categories (3, object): [Female, Male, None]"
      ]
     },
     "execution_count": 15,
     "metadata": {},
     "output_type": "execute_result"
    }
   ],
   "source": [
    "Ob_s[\"Spouse_gender\"].mode()"
   ]
  },
  {
   "cell_type": "code",
   "execution_count": 16,
   "metadata": {},
   "outputs": [],
   "source": [
    "Ob_s[\"Spouse_gender\"].replace(to_replace=\"None\", value=\"Female\",inplace=True)"
   ]
  },
  {
   "cell_type": "code",
   "execution_count": 17,
   "metadata": {},
   "outputs": [
    {
     "data": {
      "text/plain": [
       "[Female, Male]\n",
       "Categories (2, object): [Female, Male]"
      ]
     },
     "execution_count": 17,
     "metadata": {},
     "output_type": "execute_result"
    }
   ],
   "source": [
    "Ob_s[\"Spouse_gender\"].unique()"
   ]
  },
  {
   "cell_type": "code",
   "execution_count": 18,
   "metadata": {},
   "outputs": [
    {
     "data": {
      "text/html": [
       "<div>\n",
       "<style scoped>\n",
       "    .dataframe tbody tr th:only-of-type {\n",
       "        vertical-align: middle;\n",
       "    }\n",
       "\n",
       "    .dataframe tbody tr th {\n",
       "        vertical-align: top;\n",
       "    }\n",
       "\n",
       "    .dataframe thead th {\n",
       "        text-align: right;\n",
       "    }\n",
       "</style>\n",
       "<table border=\"1\" class=\"dataframe\">\n",
       "  <thead>\n",
       "    <tr style=\"text-align: right;\">\n",
       "      <th></th>\n",
       "      <th>Death_to_Burial</th>\n",
       "    </tr>\n",
       "  </thead>\n",
       "  <tbody>\n",
       "    <tr>\n",
       "      <td>count</td>\n",
       "      <td>1291.000000</td>\n",
       "    </tr>\n",
       "    <tr>\n",
       "      <td>mean</td>\n",
       "      <td>9.008521</td>\n",
       "    </tr>\n",
       "    <tr>\n",
       "      <td>std</td>\n",
       "      <td>10.679071</td>\n",
       "    </tr>\n",
       "    <tr>\n",
       "      <td>min</td>\n",
       "      <td>-292.000000</td>\n",
       "    </tr>\n",
       "    <tr>\n",
       "      <td>25%</td>\n",
       "      <td>6.000000</td>\n",
       "    </tr>\n",
       "    <tr>\n",
       "      <td>50%</td>\n",
       "      <td>8.000000</td>\n",
       "    </tr>\n",
       "    <tr>\n",
       "      <td>75%</td>\n",
       "      <td>12.000000</td>\n",
       "    </tr>\n",
       "    <tr>\n",
       "      <td>max</td>\n",
       "      <td>94.000000</td>\n",
       "    </tr>\n",
       "  </tbody>\n",
       "</table>\n",
       "</div>"
      ],
      "text/plain": [
       "       Death_to_Burial\n",
       "count      1291.000000\n",
       "mean          9.008521\n",
       "std          10.679071\n",
       "min        -292.000000\n",
       "25%           6.000000\n",
       "50%           8.000000\n",
       "75%          12.000000\n",
       "max          94.000000"
      ]
     },
     "execution_count": 18,
     "metadata": {},
     "output_type": "execute_result"
    }
   ],
   "source": [
    "Ob_s.describe()"
   ]
  },
  {
   "cell_type": "code",
   "execution_count": 19,
   "metadata": {},
   "outputs": [
    {
     "data": {
      "image/png": "[encoded data removed]",
      "text/plain": [
       "<Figure size 720x432 with 1 Axes>"
      ]
     },
     "metadata": {
      "needs_background": "light"
     },
     "output_type": "display_data"
    }
   ],
   "source": [
    "# Check outlier\n",
    "plt.figure(figsize=(10,6))\n",
    "sns.boxplot(Ob_s[\"Death_to_Burial\"])\n",
    "plt.title(\"BOX PLOT OF DAYS TO BURIAL\")\n",
    "plt.xlabel(\"Days to Burial\")\n",
    "plt.show()"
   ]
  },
  {
   "cell_type": "code",
   "execution_count": 20,
   "metadata": {},
   "outputs": [],
   "source": [
    "Ob_s=Ob_s[Ob_s[\"Death_to_Burial\"]>=0]"
   ]
  },
  {
   "cell_type": "code",
   "execution_count": 21,
   "metadata": {},
   "outputs": [
    {
     "data": {
      "image/png": "[encoded data removed]",
      "text/plain": [
       "<Figure size 720x432 with 1 Axes>"
      ]
     },
     "metadata": {
      "needs_background": "light"
     },
     "output_type": "display_data"
    }
   ],
   "source": [
    "plt.figure(figsize=(10,6))\n",
    "sns.boxplot(Ob_s[\"Death_to_Burial\"])\n",
    "plt.title(\"BOX PLOT OF DAYS TO BURIAL AFTER TRUNCATION\")\n",
    "plt.xlabel(\"Days to Burial\")\n",
    "plt.show()"
   ]
  },
  {
   "cell_type": "code",
   "execution_count": 22,
   "metadata": {
    "scrolled": true
   },
   "outputs": [
    {
     "data": {
      "text/plain": [
       "(94.0, 0.0)"
      ]
     },
     "execution_count": 22,
     "metadata": {},
     "output_type": "execute_result"
    }
   ],
   "source": [
    "# Maximum and Minimum number of days\n",
    "Ob_s[\"Death_to_Burial\"].max(),Ob_s[\"Death_to_Burial\"].min()"
   ]
  },
  {
   "cell_type": "code",
   "execution_count": 23,
   "metadata": {},
   "outputs": [
    {
     "name": "stdout",
     "output_type": "stream",
     "text": [
      "<class 'pandas.core.frame.DataFrame'>\n",
      "Index: 1285 entries, Eng. Paul Chemweno to Mzee Muliko Kimanga\n",
      "Data columns (total 4 columns):\n",
      "Death              1285 non-null object\n",
      "Burial             1285 non-null object\n",
      "Spouse_gender      1285 non-null category\n",
      "Death_to_Burial    1285 non-null float64\n",
      "dtypes: category(1), float64(1), object(2)\n",
      "memory usage: 41.5+ KB\n"
     ]
    }
   ],
   "source": [
    "Ob_s.info()"
   ]
  },
  {
   "cell_type": "markdown",
   "metadata": {},
   "source": [
    "# Kaplein Meier"
   ]
  },
  {
   "cell_type": "code",
   "execution_count": 24,
   "metadata": {},
   "outputs": [],
   "source": [
    "#Use of lifelines\n",
    "from lifelines import KaplanMeierFitter"
   ]
  },
  {
   "cell_type": "code",
   "execution_count": 25,
   "metadata": {},
   "outputs": [],
   "source": [
    "# Encode gender\n",
    "from sklearn import preprocessing\n",
    "encode= preprocessing.LabelEncoder()\n",
    "Ob_s[\"Spouse_gender_enc\"]=encode.fit_transform(Ob_s[\"Spouse_gender\"])"
   ]
  },
  {
   "cell_type": "code",
   "execution_count": 26,
   "metadata": {},
   "outputs": [
    {
     "data": {
      "text/plain": [
       "(1, 0)"
      ]
     },
     "execution_count": 26,
     "metadata": {},
     "output_type": "execute_result"
    }
   ],
   "source": [
    "Ob_s.Spouse_gender_enc.max(),Ob_s.Spouse_gender_enc.min()"
   ]
  },
  {
   "cell_type": "code",
   "execution_count": 27,
   "metadata": {
    "scrolled": true
   },
   "outputs": [
    {
     "data": {
      "text/html": [
       "<div>\n",
       "<style scoped>\n",
       "    .dataframe tbody tr th:only-of-type {\n",
       "        vertical-align: middle;\n",
       "    }\n",
       "\n",
       "    .dataframe tbody tr th {\n",
       "        vertical-align: top;\n",
       "    }\n",
       "\n",
       "    .dataframe thead th {\n",
       "        text-align: right;\n",
       "    }\n",
       "</style>\n",
       "<table border=\"1\" class=\"dataframe\">\n",
       "  <thead>\n",
       "    <tr style=\"text-align: right;\">\n",
       "      <th></th>\n",
       "      <th>Death</th>\n",
       "      <th>Burial</th>\n",
       "      <th>Spouse_gender</th>\n",
       "      <th>Death_to_Burial</th>\n",
       "      <th>Spouse_gender_enc</th>\n",
       "    </tr>\n",
       "    <tr>\n",
       "      <th>Name</th>\n",
       "      <th></th>\n",
       "      <th></th>\n",
       "      <th></th>\n",
       "      <th></th>\n",
       "      <th></th>\n",
       "    </tr>\n",
       "  </thead>\n",
       "  <tbody>\n",
       "    <tr>\n",
       "      <td>Eng. Paul Chemweno</td>\n",
       "      <td>11/2/2017</td>\n",
       "      <td>11/17/2017</td>\n",
       "      <td>Female</td>\n",
       "      <td>15.0</td>\n",
       "      <td>0</td>\n",
       "    </tr>\n",
       "    <tr>\n",
       "      <td>Edith Kiende Kiogora</td>\n",
       "      <td>10/27/2017</td>\n",
       "      <td>11/11/2017</td>\n",
       "      <td>Male</td>\n",
       "      <td>15.0</td>\n",
       "      <td>1</td>\n",
       "    </tr>\n",
       "    <tr>\n",
       "      <td>Simon Muchiri Ngigii Mbaria</td>\n",
       "      <td>11/1/2017</td>\n",
       "      <td>11/8/2017</td>\n",
       "      <td>Female</td>\n",
       "      <td>7.0</td>\n",
       "      <td>0</td>\n",
       "    </tr>\n",
       "    <tr>\n",
       "      <td>Mwalimu Erick Namusasi Werunga</td>\n",
       "      <td>10/24/2017</td>\n",
       "      <td>11/9/2017</td>\n",
       "      <td>Female</td>\n",
       "      <td>16.0</td>\n",
       "      <td>0</td>\n",
       "    </tr>\n",
       "    <tr>\n",
       "      <td>Catherine Mueni Sina</td>\n",
       "      <td>11/2/2017</td>\n",
       "      <td>11/11/2017</td>\n",
       "      <td>Male</td>\n",
       "      <td>9.0</td>\n",
       "      <td>1</td>\n",
       "    </tr>\n",
       "  </tbody>\n",
       "</table>\n",
       "</div>"
      ],
      "text/plain": [
       "                                     Death      Burial Spouse_gender  \\\n",
       "Name                                                                   \n",
       "Eng. Paul Chemweno               11/2/2017  11/17/2017        Female   \n",
       "Edith Kiende Kiogora            10/27/2017  11/11/2017          Male   \n",
       "Simon Muchiri Ngigii Mbaria      11/1/2017   11/8/2017        Female   \n",
       "Mwalimu Erick Namusasi Werunga  10/24/2017   11/9/2017        Female   \n",
       "Catherine Mueni Sina             11/2/2017  11/11/2017          Male   \n",
       "\n",
       "                                Death_to_Burial  Spouse_gender_enc  \n",
       "Name                                                                \n",
       "Eng. Paul Chemweno                         15.0                  0  \n",
       "Edith Kiende Kiogora                       15.0                  1  \n",
       "Simon Muchiri Ngigii Mbaria                 7.0                  0  \n",
       "Mwalimu Erick Namusasi Werunga             16.0                  0  \n",
       "Catherine Mueni Sina                        9.0                  1  "
      ]
     },
     "execution_count": 27,
     "metadata": {},
     "output_type": "execute_result"
    }
   ],
   "source": [
    "Ob_s.head(5)"
   ]
  },
  {
   "cell_type": "code",
   "execution_count": 28,
   "metadata": {},
   "outputs": [
    {
     "data": {
      "text/html": [
       "<div>\n",
       "<style scoped>\n",
       "    .dataframe tbody tr th:only-of-type {\n",
       "        vertical-align: middle;\n",
       "    }\n",
       "\n",
       "    .dataframe tbody tr th {\n",
       "        vertical-align: top;\n",
       "    }\n",
       "\n",
       "    .dataframe thead th {\n",
       "        text-align: right;\n",
       "    }\n",
       "</style>\n",
       "<table border=\"1\" class=\"dataframe\">\n",
       "  <thead>\n",
       "    <tr style=\"text-align: right;\">\n",
       "      <th></th>\n",
       "      <th>Death</th>\n",
       "      <th>Burial</th>\n",
       "      <th>Spouse_gender</th>\n",
       "      <th>Death_to_Burial</th>\n",
       "      <th>Spouse_gender_enc</th>\n",
       "    </tr>\n",
       "    <tr>\n",
       "      <th>Name</th>\n",
       "      <th></th>\n",
       "      <th></th>\n",
       "      <th></th>\n",
       "      <th></th>\n",
       "      <th></th>\n",
       "    </tr>\n",
       "  </thead>\n",
       "  <tbody>\n",
       "    <tr>\n",
       "      <td>Faith Wangui Mwathi</td>\n",
       "      <td>3/13/2017</td>\n",
       "      <td>3/18/2017</td>\n",
       "      <td>Male</td>\n",
       "      <td>5.0</td>\n",
       "      <td>1</td>\n",
       "    </tr>\n",
       "    <tr>\n",
       "      <td>Mama Agnes Omwenga Nyakundi</td>\n",
       "      <td>3/12/2017</td>\n",
       "      <td>3/24/2017</td>\n",
       "      <td>Male</td>\n",
       "      <td>12.0</td>\n",
       "      <td>1</td>\n",
       "    </tr>\n",
       "    <tr>\n",
       "      <td>Mrs Jane Wanjiru Kaniu(Nyina Wa Andu)</td>\n",
       "      <td>3/11/2017</td>\n",
       "      <td>3/22/2017</td>\n",
       "      <td>Male</td>\n",
       "      <td>11.0</td>\n",
       "      <td>1</td>\n",
       "    </tr>\n",
       "    <tr>\n",
       "      <td>Snr. Insp. Of Police Betty Cherono Soi</td>\n",
       "      <td>3/11/2017</td>\n",
       "      <td>3/18/2017</td>\n",
       "      <td>Male</td>\n",
       "      <td>11.0</td>\n",
       "      <td>1</td>\n",
       "    </tr>\n",
       "    <tr>\n",
       "      <td>Mzee Muliko Kimanga</td>\n",
       "      <td>3/12/2017</td>\n",
       "      <td>3/18/2017</td>\n",
       "      <td>Female</td>\n",
       "      <td>6.0</td>\n",
       "      <td>0</td>\n",
       "    </tr>\n",
       "  </tbody>\n",
       "</table>\n",
       "</div>"
      ],
      "text/plain": [
       "                                            Death     Burial Spouse_gender  \\\n",
       "Name                                                                         \n",
       "Faith Wangui Mwathi                     3/13/2017  3/18/2017          Male   \n",
       "Mama Agnes Omwenga Nyakundi             3/12/2017  3/24/2017          Male   \n",
       "Mrs Jane Wanjiru Kaniu(Nyina Wa Andu)   3/11/2017  3/22/2017          Male   \n",
       "Snr. Insp. Of Police Betty Cherono Soi  3/11/2017  3/18/2017          Male   \n",
       "Mzee Muliko Kimanga                     3/12/2017  3/18/2017        Female   \n",
       "\n",
       "                                        Death_to_Burial  Spouse_gender_enc  \n",
       "Name                                                                        \n",
       "Faith Wangui Mwathi                                 5.0                  1  \n",
       "Mama Agnes Omwenga Nyakundi                        12.0                  1  \n",
       "Mrs Jane Wanjiru Kaniu(Nyina Wa Andu)              11.0                  1  \n",
       "Snr. Insp. Of Police Betty Cherono Soi             11.0                  1  \n",
       "Mzee Muliko Kimanga                                 6.0                  0  "
      ]
     },
     "execution_count": 28,
     "metadata": {},
     "output_type": "execute_result"
    }
   ],
   "source": [
    "Ob_s.tail(5)"
   ]
  },
  {
   "cell_type": "code",
   "execution_count": 29,
   "metadata": {},
   "outputs": [],
   "source": [
    "km= KaplanMeierFitter()"
   ]
  },
  {
   "cell_type": "code",
   "execution_count": 30,
   "metadata": {
    "scrolled": true
   },
   "outputs": [],
   "source": [
    "time=Ob_s[\"Death_to_Burial\"]\n",
    "spouse=Ob_s[\"Spouse_gender_enc\"]"
   ]
  },
  {
   "cell_type": "code",
   "execution_count": 31,
   "metadata": {},
   "outputs": [
    {
     "data": {
      "text/plain": [
       "Name\n",
       "Eng. Paul Chemweno                15.0\n",
       "Edith Kiende Kiogora              15.0\n",
       "Simon Muchiri Ngigii Mbaria        7.0\n",
       "Mwalimu Erick Namusasi Werunga    16.0\n",
       "Catherine Mueni Sina               9.0\n",
       "Name: Death_to_Burial, dtype: float64"
      ]
     },
     "execution_count": 31,
     "metadata": {},
     "output_type": "execute_result"
    }
   ],
   "source": [
    "time.head()"
   ]
  },
  {
   "cell_type": "code",
   "execution_count": 32,
   "metadata": {},
   "outputs": [
    {
     "data": {
      "text/plain": [
       "Name\n",
       "Eng. Paul Chemweno                0\n",
       "Edith Kiende Kiogora              1\n",
       "Simon Muchiri Ngigii Mbaria       0\n",
       "Mwalimu Erick Namusasi Werunga    0\n",
       "Catherine Mueni Sina              1\n",
       "Name: Spouse_gender_enc, dtype: int32"
      ]
     },
     "execution_count": 32,
     "metadata": {},
     "output_type": "execute_result"
    }
   ],
   "source": [
    "spouse.head()"
   ]
  },
  {
   "cell_type": "code",
   "execution_count": 33,
   "metadata": {
    "scrolled": true
   },
   "outputs": [
    {
     "name": "stdout",
     "output_type": "stream",
     "text": [
      "<class 'pandas.core.frame.DataFrame'>\n",
      "Index: 1285 entries, Eng. Paul Chemweno to Mzee Muliko Kimanga\n",
      "Data columns (total 5 columns):\n",
      "Death                1285 non-null object\n",
      "Burial               1285 non-null object\n",
      "Spouse_gender        1285 non-null category\n",
      "Death_to_Burial      1285 non-null float64\n",
      "Spouse_gender_enc    1285 non-null int32\n",
      "dtypes: category(1), float64(1), int32(1), object(2)\n",
      "memory usage: 46.5+ KB\n"
     ]
    }
   ],
   "source": [
    "Ob_s.info(5)"
   ]
  },
  {
   "cell_type": "code",
   "execution_count": 34,
   "metadata": {},
   "outputs": [
    {
     "data": {
      "text/plain": [
       "<Figure size 720x432 with 0 Axes>"
      ]
     },
     "execution_count": 34,
     "metadata": {},
     "output_type": "execute_result"
    },
    {
     "data": {
      "text/plain": [
       "<Figure size 720x432 with 0 Axes>"
      ]
     },
     "metadata": {},
     "output_type": "display_data"
    }
   ],
   "source": [
    "%matplotlib inline\n",
    "plt.figure(figsize=(10,6))"
   ]
  },
  {
   "cell_type": "markdown",
   "metadata": {},
   "source": [
    "#Kaplain Meier plots for gender of spouse associated with number of days taken to burial day of the deceased."
   ]
  },
  {
   "cell_type": "code",
   "execution_count": 35,
   "metadata": {},
   "outputs": [
    {
     "data": {
      "image/png": "[encoded data removed]",
      "text/plain": [
       "<Figure size 720x432 with 1 Axes>"
      ]
     },
     "metadata": {
      "needs_background": "light"
     },
     "output_type": "display_data"
    }
   ],
   "source": [
    "km.fit(time,spouse)\n",
    "km.plot(ci_show=True,figsize=(10,6))\n",
    "plt.title(\"KM Estimator\")\n",
    "plt.ylabel(\"Probability of burial after Days\")\n",
    "plt.xlabel(\"Days to Burial\")\n",
    "plt.gcf()\n",
    "plt.show()"
   ]
  },
  {
   "cell_type": "code",
   "execution_count": 36,
   "metadata": {},
   "outputs": [
    {
     "data": {
      "text/html": [
       "<div>\n",
       "<style scoped>\n",
       "    .dataframe tbody tr th:only-of-type {\n",
       "        vertical-align: middle;\n",
       "    }\n",
       "\n",
       "    .dataframe tbody tr th {\n",
       "        vertical-align: top;\n",
       "    }\n",
       "\n",
       "    .dataframe thead th {\n",
       "        text-align: right;\n",
       "    }\n",
       "</style>\n",
       "<table border=\"1\" class=\"dataframe\">\n",
       "  <thead>\n",
       "    <tr style=\"text-align: right;\">\n",
       "      <th></th>\n",
       "      <th>KM_estimate_lower_0.95</th>\n",
       "      <th>KM_estimate_upper_0.95</th>\n",
       "    </tr>\n",
       "  </thead>\n",
       "  <tbody>\n",
       "    <tr>\n",
       "      <td>0.5</td>\n",
       "      <td>13.0</td>\n",
       "      <td>14.0</td>\n",
       "    </tr>\n",
       "  </tbody>\n",
       "</table>\n",
       "</div>"
      ],
      "text/plain": [
       "     KM_estimate_lower_0.95  KM_estimate_upper_0.95\n",
       "0.5                    13.0                    14.0"
      ]
     },
     "execution_count": 36,
     "metadata": {},
     "output_type": "execute_result"
    }
   ],
   "source": [
    "from lifelines.utils import median_survival_times\n",
    "median_ci = median_survival_times(km.confidence_interval_)\n",
    "median_ci"
   ]
  },
  {
   "cell_type": "code",
   "execution_count": 37,
   "metadata": {},
   "outputs": [
    {
     "data": {
      "text/plain": [
       "[Female, Male]\n",
       "Categories (2, object): [Female, Male]"
      ]
     },
     "execution_count": 37,
     "metadata": {},
     "output_type": "execute_result"
    }
   ],
   "source": [
    "Ob_s[\"Spouse_gender\"].unique()"
   ]
  },
  {
   "cell_type": "code",
   "execution_count": 38,
   "metadata": {},
   "outputs": [
    {
     "data": {
      "image/png": "[encoded data removed]",
      "text/plain": [
       "<Figure size 720x432 with 1 Axes>"
      ]
     },
     "metadata": {
      "needs_background": "light"
     },
     "output_type": "display_data"
    },
    {
     "data": {
      "image/png": "[encoded data removed]",
      "text/plain": [
       "<Figure size 720x432 with 1 Axes>"
      ]
     },
     "metadata": {
      "needs_background": "light"
     },
     "output_type": "display_data"
    }
   ],
   "source": [
    "# Plot Male and Female live Spouses KM plot\n",
    "for sex in Ob_s[\"Spouse_gender_enc\"].unique():\n",
    "    if sex==1:\n",
    "        label=\"Male\" # Label for encode 1 is Male\n",
    "        km.fit(time,spouse==sex,label=label)\n",
    "        km.plot(figsize=(10,6),color=\"blue\")\n",
    "        plt.title(\"KAPLAN MEIER PLOT FOR MALE SPOUSE\")\n",
    "    else:\n",
    "        label=\"Female\" # Label for encode 0 is Female\n",
    "        km.fit(time,spouse==sex,label=label)\n",
    "        km.plot(figsize=(10,6),color=\"brown\")\n",
    "        plt.title(\"KAPLAN MEIER PLOT FOR FEMALE SPOUSE\")\n",
    "    plt.ylabel(\"PROBABILITY OF BURIAL AFTER DAYS\")\n",
    "    plt.xlabel(\"DAYS TO BURIAL\")\n",
    "    plt.gcf()\n",
    "    \n",
    "    plt.show()"
   ]
  },
  {
   "cell_type": "code",
   "execution_count": 39,
   "metadata": {},
   "outputs": [
    {
     "data": {
      "image/png": "[encoded data removed]",
      "text/plain": [
       "<Figure size 720x432 with 1 Axes>"
      ]
     },
     "metadata": {
      "needs_background": "light"
     },
     "output_type": "display_data"
    }
   ],
   "source": [
    "# Comparison Plot Male and Female Spouses KM plot\n",
    "ax=plt.subplots(1)\n",
    "\n",
    "km.fit(time,spouse==1,label=\"Male\")\n",
    "fig=km.plot(ci_show=False,figsize=(10,6),color=\"blue\")\n",
    "\n",
    "km.fit(time,spouse==0,label=\"Female\")\n",
    "km.plot(ci_show=False,figsize=(10,6),color=\"brown\",ax=fig)\n",
    "\n",
    "plt.title(\"COMPARISON OF KAPLAN MEIER PLOTS PER GENDER\")\n",
    "plt.ylabel(\"PROBABILITY OF BURIAL AFTER DAYS\")\n",
    "plt.xlabel(\"DAYS TO BURIAL\")\n",
    "plt.gcf()\n",
    "\n",
    "plt.show()"
   ]
  },
  {
   "cell_type": "markdown",
   "metadata": {},
   "source": [
    "##########\n",
    "B: Predict deaths that are likely to need fundraising. Use algorithm of your own choice. Include the confusion matrix, F1 score, sensitivity, and specificity."
   ]
  },
  {
   "cell_type": "code",
   "execution_count": 40,
   "metadata": {
    "scrolled": true
   },
   "outputs": [
    {
     "data": {
      "text/html": [
       "<div>\n",
       "<style scoped>\n",
       "    .dataframe tbody tr th:only-of-type {\n",
       "        vertical-align: middle;\n",
       "    }\n",
       "\n",
       "    .dataframe tbody tr th {\n",
       "        vertical-align: top;\n",
       "    }\n",
       "\n",
       "    .dataframe thead th {\n",
       "        text-align: right;\n",
       "    }\n",
       "</style>\n",
       "<table border=\"1\" class=\"dataframe\">\n",
       "  <thead>\n",
       "    <tr style=\"text-align: right;\">\n",
       "      <th></th>\n",
       "      <th>Announcement</th>\n",
       "      <th>Death</th>\n",
       "      <th>Burial</th>\n",
       "      <th>Burial_Day</th>\n",
       "      <th>Burial_Week</th>\n",
       "      <th>Gender</th>\n",
       "      <th>Age</th>\n",
       "      <th>Color</th>\n",
       "      <th>Size</th>\n",
       "      <th>Word_Count</th>\n",
       "      <th>...</th>\n",
       "      <th>Morgue</th>\n",
       "      <th>Same_Morgue</th>\n",
       "      <th>Cost_Morgue</th>\n",
       "      <th>Occupation</th>\n",
       "      <th>Repetition</th>\n",
       "      <th>Corporate</th>\n",
       "      <th>Corporate_Name</th>\n",
       "      <th>Residence</th>\n",
       "      <th>Residence_Name</th>\n",
       "      <th>Residence_Category</th>\n",
       "    </tr>\n",
       "    <tr>\n",
       "      <th>Name</th>\n",
       "      <th></th>\n",
       "      <th></th>\n",
       "      <th></th>\n",
       "      <th></th>\n",
       "      <th></th>\n",
       "      <th></th>\n",
       "      <th></th>\n",
       "      <th></th>\n",
       "      <th></th>\n",
       "      <th></th>\n",
       "      <th></th>\n",
       "      <th></th>\n",
       "      <th></th>\n",
       "      <th></th>\n",
       "      <th></th>\n",
       "      <th></th>\n",
       "      <th></th>\n",
       "      <th></th>\n",
       "      <th></th>\n",
       "      <th></th>\n",
       "      <th></th>\n",
       "    </tr>\n",
       "  </thead>\n",
       "  <tbody>\n",
       "    <tr>\n",
       "      <td>Eng. Paul Chemweno</td>\n",
       "      <td>11/8/2017</td>\n",
       "      <td>11/2/2017</td>\n",
       "      <td>11/17/2017</td>\n",
       "      <td>Friday</td>\n",
       "      <td>Weekday</td>\n",
       "      <td>Male</td>\n",
       "      <td>66.0</td>\n",
       "      <td>Yes</td>\n",
       "      <td>55.18</td>\n",
       "      <td>179.0</td>\n",
       "      <td>...</td>\n",
       "      <td>MTRH Eldoret</td>\n",
       "      <td>No</td>\n",
       "      <td>NaN</td>\n",
       "      <td>Director</td>\n",
       "      <td>NaN</td>\n",
       "      <td>NaN</td>\n",
       "      <td>NaN</td>\n",
       "      <td>NaN</td>\n",
       "      <td>NaN</td>\n",
       "      <td>NaN</td>\n",
       "    </tr>\n",
       "    <tr>\n",
       "      <td>Edith Kiende Kiogora</td>\n",
       "      <td>11/8/2017</td>\n",
       "      <td>10/27/2017</td>\n",
       "      <td>11/11/2017</td>\n",
       "      <td>Saturday</td>\n",
       "      <td>Weekend</td>\n",
       "      <td>Female</td>\n",
       "      <td>43.0</td>\n",
       "      <td>Yes</td>\n",
       "      <td>83.60</td>\n",
       "      <td>293.0</td>\n",
       "      <td>...</td>\n",
       "      <td>Chogoria Hospital Mortuary</td>\n",
       "      <td>No</td>\n",
       "      <td>NaN</td>\n",
       "      <td>Teacher</td>\n",
       "      <td>NaN</td>\n",
       "      <td>NaN</td>\n",
       "      <td>NaN</td>\n",
       "      <td>NaN</td>\n",
       "      <td>NaN</td>\n",
       "      <td>NaN</td>\n",
       "    </tr>\n",
       "    <tr>\n",
       "      <td>Simon Muchiri Ngigii Mbaria</td>\n",
       "      <td>11/8/2017</td>\n",
       "      <td>11/1/2017</td>\n",
       "      <td>11/8/2017</td>\n",
       "      <td>Wednesday</td>\n",
       "      <td>Weekday</td>\n",
       "      <td>Male</td>\n",
       "      <td>35.0</td>\n",
       "      <td>Yes</td>\n",
       "      <td>109.12</td>\n",
       "      <td>206.0</td>\n",
       "      <td>...</td>\n",
       "      <td>Umash Nakuru</td>\n",
       "      <td>No</td>\n",
       "      <td>NaN</td>\n",
       "      <td>Teacher</td>\n",
       "      <td>NaN</td>\n",
       "      <td>NaN</td>\n",
       "      <td>NaN</td>\n",
       "      <td>NaN</td>\n",
       "      <td>NaN</td>\n",
       "      <td>NaN</td>\n",
       "    </tr>\n",
       "    <tr>\n",
       "      <td>Mwalimu Erick Namusasi Werunga</td>\n",
       "      <td>11/8/2017</td>\n",
       "      <td>10/24/2017</td>\n",
       "      <td>11/9/2017</td>\n",
       "      <td>Thursday</td>\n",
       "      <td>Weekday</td>\n",
       "      <td>Male</td>\n",
       "      <td>54.0</td>\n",
       "      <td>Yes</td>\n",
       "      <td>83.60</td>\n",
       "      <td>171.0</td>\n",
       "      <td>...</td>\n",
       "      <td>Maida Mortuary</td>\n",
       "      <td>NaN</td>\n",
       "      <td>NaN</td>\n",
       "      <td>Teacher</td>\n",
       "      <td>NaN</td>\n",
       "      <td>NaN</td>\n",
       "      <td>NaN</td>\n",
       "      <td>NaN</td>\n",
       "      <td>NaN</td>\n",
       "      <td>NaN</td>\n",
       "    </tr>\n",
       "    <tr>\n",
       "      <td>Catherine Mueni Sina</td>\n",
       "      <td>11/8/2017</td>\n",
       "      <td>11/2/2017</td>\n",
       "      <td>11/11/2017</td>\n",
       "      <td>Saturday</td>\n",
       "      <td>Weekend</td>\n",
       "      <td>Female</td>\n",
       "      <td>41.0</td>\n",
       "      <td>No</td>\n",
       "      <td>55.18</td>\n",
       "      <td>150.0</td>\n",
       "      <td>...</td>\n",
       "      <td>NaN</td>\n",
       "      <td>NaN</td>\n",
       "      <td>NaN</td>\n",
       "      <td>NaN</td>\n",
       "      <td>NaN</td>\n",
       "      <td>NaN</td>\n",
       "      <td>NaN</td>\n",
       "      <td>NaN</td>\n",
       "      <td>NaN</td>\n",
       "      <td>NaN</td>\n",
       "    </tr>\n",
       "  </tbody>\n",
       "</table>\n",
       "<p>5 rows × 38 columns</p>\n",
       "</div>"
      ],
      "text/plain": [
       "                               Announcement       Death      Burial  \\\n",
       "Name                                                                  \n",
       "Eng. Paul Chemweno                11/8/2017   11/2/2017  11/17/2017   \n",
       "Edith Kiende Kiogora              11/8/2017  10/27/2017  11/11/2017   \n",
       "Simon Muchiri Ngigii Mbaria       11/8/2017   11/1/2017   11/8/2017   \n",
       "Mwalimu Erick Namusasi Werunga    11/8/2017  10/24/2017   11/9/2017   \n",
       "Catherine Mueni Sina              11/8/2017   11/2/2017  11/11/2017   \n",
       "\n",
       "                               Burial_Day Burial_Week  Gender   Age Color  \\\n",
       "Name                                                                        \n",
       "Eng. Paul Chemweno                 Friday     Weekday    Male  66.0   Yes   \n",
       "Edith Kiende Kiogora             Saturday     Weekend  Female  43.0   Yes   \n",
       "Simon Muchiri Ngigii Mbaria     Wednesday     Weekday    Male  35.0   Yes   \n",
       "Mwalimu Erick Namusasi Werunga   Thursday     Weekday    Male  54.0   Yes   \n",
       "Catherine Mueni Sina             Saturday     Weekend  Female  41.0    No   \n",
       "\n",
       "                                  Size  Word_Count  ...  \\\n",
       "Name                                                ...   \n",
       "Eng. Paul Chemweno               55.18       179.0  ...   \n",
       "Edith Kiende Kiogora             83.60       293.0  ...   \n",
       "Simon Muchiri Ngigii Mbaria     109.12       206.0  ...   \n",
       "Mwalimu Erick Namusasi Werunga   83.60       171.0  ...   \n",
       "Catherine Mueni Sina             55.18       150.0  ...   \n",
       "\n",
       "                                                    Morgue  Same_Morgue  \\\n",
       "Name                                                                      \n",
       "Eng. Paul Chemweno                            MTRH Eldoret           No   \n",
       "Edith Kiende Kiogora            Chogoria Hospital Mortuary           No   \n",
       "Simon Muchiri Ngigii Mbaria                   Umash Nakuru           No   \n",
       "Mwalimu Erick Namusasi Werunga              Maida Mortuary          NaN   \n",
       "Catherine Mueni Sina                                   NaN          NaN   \n",
       "\n",
       "                                Cost_Morgue Occupation Repetition Corporate  \\\n",
       "Name                                                                          \n",
       "Eng. Paul Chemweno                      NaN   Director        NaN       NaN   \n",
       "Edith Kiende Kiogora                    NaN    Teacher        NaN       NaN   \n",
       "Simon Muchiri Ngigii Mbaria             NaN    Teacher        NaN       NaN   \n",
       "Mwalimu Erick Namusasi Werunga          NaN    Teacher        NaN       NaN   \n",
       "Catherine Mueni Sina                    NaN        NaN        NaN       NaN   \n",
       "\n",
       "                               Corporate_Name Residence Residence_Name  \\\n",
       "Name                                                                     \n",
       "Eng. Paul Chemweno                        NaN       NaN            NaN   \n",
       "Edith Kiende Kiogora                      NaN       NaN            NaN   \n",
       "Simon Muchiri Ngigii Mbaria               NaN       NaN            NaN   \n",
       "Mwalimu Erick Namusasi Werunga            NaN       NaN            NaN   \n",
       "Catherine Mueni Sina                      NaN       NaN            NaN   \n",
       "\n",
       "                               Residence_Category  \n",
       "Name                                               \n",
       "Eng. Paul Chemweno                            NaN  \n",
       "Edith Kiende Kiogora                          NaN  \n",
       "Simon Muchiri Ngigii Mbaria                   NaN  \n",
       "Mwalimu Erick Namusasi Werunga                NaN  \n",
       "Catherine Mueni Sina                          NaN  \n",
       "\n",
       "[5 rows x 38 columns]"
      ]
     },
     "execution_count": 40,
     "metadata": {},
     "output_type": "execute_result"
    }
   ],
   "source": [
    "#Top 5 rows\n",
    "Ob.head(5)"
   ]
  },
  {
   "cell_type": "code",
   "execution_count": 41,
   "metadata": {},
   "outputs": [
    {
     "data": {
      "text/plain": [
       "Announcement               26\n",
       "Death                     398\n",
       "Burial                    127\n",
       "Burial_Day                128\n",
       "Burial_Week               128\n",
       "Gender                      0\n",
       "Age                       784\n",
       "Color                       2\n",
       "Size                       54\n",
       "Word_Count                 54\n",
       "No_of_Children            198\n",
       "Significant_Children      199\n",
       "Significant_Relatives     208\n",
       "Fundraising               149\n",
       "Death_to_Announce           0\n",
       "Death_to_Burial            47\n",
       "Announce_to_Burial         13\n",
       "No_of_Relatives           230\n",
       "County_Burial             247\n",
       "County_Death              766\n",
       "County_Morgue             411\n",
       "Distance_Death            805\n",
       "Distance_Morgue           420\n",
       "Cause_of_Death            493\n",
       "Married                   243\n",
       "Spouse_Alive              348\n",
       "Spouse_gender             356\n",
       "Hospital                 1024\n",
       "Morgue                    426\n",
       "Same_Morgue              1088\n",
       "Cost_Morgue              1289\n",
       "Occupation               1040\n",
       "Repetition               1224\n",
       "Corporate                1233\n",
       "Corporate_Name           1198\n",
       "Residence                1257\n",
       "Residence_Name           1257\n",
       "Residence_Category       1257\n",
       "dtype: int64"
      ]
     },
     "execution_count": 41,
     "metadata": {},
     "output_type": "execute_result"
    }
   ],
   "source": [
    "# Checking missing values\n",
    "Ob.isnull().sum()"
   ]
  },
  {
   "cell_type": "code",
   "execution_count": 42,
   "metadata": {
    "scrolled": true
   },
   "outputs": [],
   "source": [
    "Ob=Ob.drop(columns=[\"Announcement\",\"Death\",\"Burial\",\"Residence_Category\",\"Residence_Name\",\"Residence\",\"Corporate_Name\",\"Corporate\",\"Repetition\",\"Cost_Morgue\"])"
   ]
  },
  {
   "cell_type": "code",
   "execution_count": 43,
   "metadata": {},
   "outputs": [
    {
     "data": {
      "text/plain": [
       "Index(['Burial_Day', 'Burial_Week', 'Gender', 'Age', 'Color', 'Size',\n",
       "       'Word_Count', 'No_of_Children', 'Significant_Children',\n",
       "       'Significant_Relatives', 'Fundraising', 'Death_to_Announce',\n",
       "       'Death_to_Burial', 'Announce_to_Burial', 'No_of_Relatives',\n",
       "       'County_Burial', 'County_Death', 'County_Morgue', 'Distance_Death',\n",
       "       'Distance_Morgue', 'Cause_of_Death', 'Married', 'Spouse_Alive',\n",
       "       'Spouse_gender', 'Hospital', 'Morgue', 'Same_Morgue', 'Occupation'],\n",
       "      dtype='object')"
      ]
     },
     "execution_count": 43,
     "metadata": {},
     "output_type": "execute_result"
    }
   ],
   "source": [
    "Ob.columns # Columns used"
   ]
  },
  {
   "cell_type": "code",
   "execution_count": 44,
   "metadata": {},
   "outputs": [
    {
     "name": "stdout",
     "output_type": "stream",
     "text": [
      "<class 'pandas.core.frame.DataFrame'>\n",
      "Index: 1291 entries, Eng. Paul Chemweno to Mzee Muliko Kimanga\n",
      "Data columns (total 28 columns):\n",
      "Burial_Day               1163 non-null object\n",
      "Burial_Week              1163 non-null object\n",
      "Gender                   1291 non-null object\n",
      "Age                      507 non-null float64\n",
      "Color                    1289 non-null object\n",
      "Size                     1237 non-null float64\n",
      "Word_Count               1237 non-null float64\n",
      "No_of_Children           1093 non-null float64\n",
      "Significant_Children     1092 non-null float64\n",
      "Significant_Relatives    1083 non-null float64\n",
      "Fundraising              1142 non-null object\n",
      "Death_to_Announce        1291 non-null object\n",
      "Death_to_Burial          1244 non-null object\n",
      "Announce_to_Burial       1278 non-null object\n",
      "No_of_Relatives          1061 non-null object\n",
      "County_Burial            1044 non-null object\n",
      "County_Death             525 non-null object\n",
      "County_Morgue            880 non-null object\n",
      "Distance_Death           486 non-null float64\n",
      "Distance_Morgue          871 non-null object\n",
      "Cause_of_Death           798 non-null object\n",
      "Married                  1048 non-null object\n",
      "Spouse_Alive             943 non-null object\n",
      "Spouse_gender            935 non-null object\n",
      "Hospital                 267 non-null object\n",
      "Morgue                   865 non-null object\n",
      "Same_Morgue              203 non-null object\n",
      "Occupation               251 non-null object\n",
      "dtypes: float64(7), object(21)\n",
      "memory usage: 292.5+ KB\n"
     ]
    }
   ],
   "source": [
    "Ob.info()"
   ]
  },
  {
   "cell_type": "code",
   "execution_count": 45,
   "metadata": {},
   "outputs": [
    {
     "name": "stdout",
     "output_type": "stream",
     "text": [
      "Age\n",
      "Size\n",
      "Word_Count\n",
      "No_of_Children\n",
      "Significant_Children\n",
      "Significant_Relatives\n",
      "Distance_Death\n"
     ]
    }
   ],
   "source": [
    "for column in Ob.columns:\n",
    "    \n",
    "    if Ob[column].dtypes!=object:\n",
    "        print(column)"
   ]
  },
  {
   "cell_type": "code",
   "execution_count": 46,
   "metadata": {},
   "outputs": [],
   "source": [
    "Ob_new=Ob.copy()"
   ]
  },
  {
   "cell_type": "code",
   "execution_count": 47,
   "metadata": {},
   "outputs": [
    {
     "data": {
      "text/plain": [
       "Index(['Burial_Day', 'Burial_Week', 'Gender', 'Color', 'Fundraising',\n",
       "       'Death_to_Announce', 'Death_to_Burial', 'Announce_to_Burial',\n",
       "       'No_of_Relatives', 'County_Burial', 'County_Death', 'County_Morgue',\n",
       "       'Distance_Morgue', 'Cause_of_Death', 'Married', 'Spouse_Alive',\n",
       "       'Spouse_gender', 'Hospital', 'Morgue', 'Same_Morgue', 'Occupation'],\n",
       "      dtype='object')"
      ]
     },
     "execution_count": 47,
     "metadata": {},
     "output_type": "execute_result"
    }
   ],
   "source": [
    "Column_n=Ob.drop(columns=[\"Age\",\n",
    "                \"Size\",\n",
    "                \"Word_Count\",\n",
    "                \"No_of_Children\",\n",
    "                \"Significant_Children\",\n",
    "                \"Significant_Relatives\",\n",
    "                \"Distance_Death\"])\n",
    "Column_n.columns"
   ]
  },
  {
   "cell_type": "code",
   "execution_count": 48,
   "metadata": {},
   "outputs": [],
   "source": [
    "# Replace Null values with 0\n",
    "Ob_new=Ob_new.replace(np.nan,0)"
   ]
  },
  {
   "cell_type": "code",
   "execution_count": 49,
   "metadata": {
    "scrolled": true
   },
   "outputs": [],
   "source": [
    "# Convert to string and encode\n",
    "for new_col in Column_n.columns:\n",
    "    Ob_new[new_col]=Ob_new[new_col].astype(str)\n",
    "    Ob_new[new_col]=encode.fit_transform(Ob_new[new_col])"
   ]
  },
  {
   "cell_type": "code",
   "execution_count": 50,
   "metadata": {
    "scrolled": true
   },
   "outputs": [
    {
     "data": {
      "text/plain": [
       "Burial_Day               0\n",
       "Burial_Week              0\n",
       "Gender                   0\n",
       "Age                      0\n",
       "Color                    0\n",
       "Size                     0\n",
       "Word_Count               0\n",
       "No_of_Children           0\n",
       "Significant_Children     0\n",
       "Significant_Relatives    0\n",
       "Fundraising              0\n",
       "Death_to_Announce        0\n",
       "Death_to_Burial          0\n",
       "Announce_to_Burial       0\n",
       "No_of_Relatives          0\n",
       "County_Burial            0\n",
       "County_Death             0\n",
       "County_Morgue            0\n",
       "Distance_Death           0\n",
       "Distance_Morgue          0\n",
       "Cause_of_Death           0\n",
       "Married                  0\n",
       "Spouse_Alive             0\n",
       "Spouse_gender            0\n",
       "Hospital                 0\n",
       "Morgue                   0\n",
       "Same_Morgue              0\n",
       "Occupation               0\n",
       "dtype: int64"
      ]
     },
     "execution_count": 50,
     "metadata": {},
     "output_type": "execute_result"
    }
   ],
   "source": [
    "Ob_new.isnull().sum() #Re-check missin values"
   ]
  },
  {
   "cell_type": "code",
   "execution_count": 51,
   "metadata": {},
   "outputs": [
    {
     "data": {
      "text/html": [
       "<div>\n",
       "<style scoped>\n",
       "    .dataframe tbody tr th:only-of-type {\n",
       "        vertical-align: middle;\n",
       "    }\n",
       "\n",
       "    .dataframe tbody tr th {\n",
       "        vertical-align: top;\n",
       "    }\n",
       "\n",
       "    .dataframe thead th {\n",
       "        text-align: right;\n",
       "    }\n",
       "</style>\n",
       "<table border=\"1\" class=\"dataframe\">\n",
       "  <thead>\n",
       "    <tr style=\"text-align: right;\">\n",
       "      <th></th>\n",
       "      <th>Burial_Day</th>\n",
       "      <th>Burial_Week</th>\n",
       "      <th>Gender</th>\n",
       "      <th>Age</th>\n",
       "      <th>Color</th>\n",
       "      <th>Size</th>\n",
       "      <th>Word_Count</th>\n",
       "      <th>No_of_Children</th>\n",
       "      <th>Significant_Children</th>\n",
       "      <th>Significant_Relatives</th>\n",
       "      <th>...</th>\n",
       "      <th>Distance_Death</th>\n",
       "      <th>Distance_Morgue</th>\n",
       "      <th>Cause_of_Death</th>\n",
       "      <th>Married</th>\n",
       "      <th>Spouse_Alive</th>\n",
       "      <th>Spouse_gender</th>\n",
       "      <th>Hospital</th>\n",
       "      <th>Morgue</th>\n",
       "      <th>Same_Morgue</th>\n",
       "      <th>Occupation</th>\n",
       "    </tr>\n",
       "    <tr>\n",
       "      <th>Name</th>\n",
       "      <th></th>\n",
       "      <th></th>\n",
       "      <th></th>\n",
       "      <th></th>\n",
       "      <th></th>\n",
       "      <th></th>\n",
       "      <th></th>\n",
       "      <th></th>\n",
       "      <th></th>\n",
       "      <th></th>\n",
       "      <th></th>\n",
       "      <th></th>\n",
       "      <th></th>\n",
       "      <th></th>\n",
       "      <th></th>\n",
       "      <th></th>\n",
       "      <th></th>\n",
       "      <th></th>\n",
       "      <th></th>\n",
       "      <th></th>\n",
       "      <th></th>\n",
       "    </tr>\n",
       "  </thead>\n",
       "  <tbody>\n",
       "    <tr>\n",
       "      <td>Eng. Paul Chemweno</td>\n",
       "      <td>1</td>\n",
       "      <td>2</td>\n",
       "      <td>1</td>\n",
       "      <td>66.0</td>\n",
       "      <td>2</td>\n",
       "      <td>55.18</td>\n",
       "      <td>179.0</td>\n",
       "      <td>7.0</td>\n",
       "      <td>0.0</td>\n",
       "      <td>0.0</td>\n",
       "      <td>...</td>\n",
       "      <td>0.0</td>\n",
       "      <td>0</td>\n",
       "      <td>7</td>\n",
       "      <td>2</td>\n",
       "      <td>3</td>\n",
       "      <td>1</td>\n",
       "      <td>67</td>\n",
       "      <td>152</td>\n",
       "      <td>2</td>\n",
       "      <td>28</td>\n",
       "    </tr>\n",
       "    <tr>\n",
       "      <td>Edith Kiende Kiogora</td>\n",
       "      <td>3</td>\n",
       "      <td>4</td>\n",
       "      <td>0</td>\n",
       "      <td>43.0</td>\n",
       "      <td>2</td>\n",
       "      <td>83.60</td>\n",
       "      <td>293.0</td>\n",
       "      <td>4.0</td>\n",
       "      <td>0.0</td>\n",
       "      <td>7.0</td>\n",
       "      <td>...</td>\n",
       "      <td>224.0</td>\n",
       "      <td>0</td>\n",
       "      <td>7</td>\n",
       "      <td>2</td>\n",
       "      <td>3</td>\n",
       "      <td>2</td>\n",
       "      <td>84</td>\n",
       "      <td>34</td>\n",
       "      <td>2</td>\n",
       "      <td>103</td>\n",
       "    </tr>\n",
       "    <tr>\n",
       "      <td>Simon Muchiri Ngigii Mbaria</td>\n",
       "      <td>7</td>\n",
       "      <td>2</td>\n",
       "      <td>1</td>\n",
       "      <td>35.0</td>\n",
       "      <td>2</td>\n",
       "      <td>109.12</td>\n",
       "      <td>206.0</td>\n",
       "      <td>4.0</td>\n",
       "      <td>0.0</td>\n",
       "      <td>2.0</td>\n",
       "      <td>...</td>\n",
       "      <td>0.0</td>\n",
       "      <td>159</td>\n",
       "      <td>7</td>\n",
       "      <td>2</td>\n",
       "      <td>3</td>\n",
       "      <td>1</td>\n",
       "      <td>14</td>\n",
       "      <td>311</td>\n",
       "      <td>2</td>\n",
       "      <td>103</td>\n",
       "    </tr>\n",
       "    <tr>\n",
       "      <td>Mwalimu Erick Namusasi Werunga</td>\n",
       "      <td>5</td>\n",
       "      <td>2</td>\n",
       "      <td>1</td>\n",
       "      <td>54.0</td>\n",
       "      <td>2</td>\n",
       "      <td>83.60</td>\n",
       "      <td>171.0</td>\n",
       "      <td>4.0</td>\n",
       "      <td>0.0</td>\n",
       "      <td>0.0</td>\n",
       "      <td>...</td>\n",
       "      <td>0.0</td>\n",
       "      <td>0</td>\n",
       "      <td>7</td>\n",
       "      <td>2</td>\n",
       "      <td>1</td>\n",
       "      <td>1</td>\n",
       "      <td>0</td>\n",
       "      <td>158</td>\n",
       "      <td>0</td>\n",
       "      <td>103</td>\n",
       "    </tr>\n",
       "  </tbody>\n",
       "</table>\n",
       "<p>4 rows × 28 columns</p>\n",
       "</div>"
      ],
      "text/plain": [
       "                                Burial_Day  Burial_Week  Gender   Age  Color  \\\n",
       "Name                                                                           \n",
       "Eng. Paul Chemweno                       1            2       1  66.0      2   \n",
       "Edith Kiende Kiogora                     3            4       0  43.0      2   \n",
       "Simon Muchiri Ngigii Mbaria              7            2       1  35.0      2   \n",
       "Mwalimu Erick Namusasi Werunga           5            2       1  54.0      2   \n",
       "\n",
       "                                  Size  Word_Count  No_of_Children  \\\n",
       "Name                                                                 \n",
       "Eng. Paul Chemweno               55.18       179.0             7.0   \n",
       "Edith Kiende Kiogora             83.60       293.0             4.0   \n",
       "Simon Muchiri Ngigii Mbaria     109.12       206.0             4.0   \n",
       "Mwalimu Erick Namusasi Werunga   83.60       171.0             4.0   \n",
       "\n",
       "                                Significant_Children  Significant_Relatives  \\\n",
       "Name                                                                          \n",
       "Eng. Paul Chemweno                               0.0                    0.0   \n",
       "Edith Kiende Kiogora                             0.0                    7.0   \n",
       "Simon Muchiri Ngigii Mbaria                      0.0                    2.0   \n",
       "Mwalimu Erick Namusasi Werunga                   0.0                    0.0   \n",
       "\n",
       "                                ...  Distance_Death  Distance_Morgue  \\\n",
       "Name                            ...                                    \n",
       "Eng. Paul Chemweno              ...             0.0                0   \n",
       "Edith Kiende Kiogora            ...           224.0                0   \n",
       "Simon Muchiri Ngigii Mbaria     ...             0.0              159   \n",
       "Mwalimu Erick Namusasi Werunga  ...             0.0                0   \n",
       "\n",
       "                                Cause_of_Death  Married  Spouse_Alive  \\\n",
       "Name                                                                    \n",
       "Eng. Paul Chemweno                           7        2             3   \n",
       "Edith Kiende Kiogora                         7        2             3   \n",
       "Simon Muchiri Ngigii Mbaria                  7        2             3   \n",
       "Mwalimu Erick Namusasi Werunga               7        2             1   \n",
       "\n",
       "                                Spouse_gender  Hospital  Morgue  Same_Morgue  \\\n",
       "Name                                                                           \n",
       "Eng. Paul Chemweno                          1        67     152            2   \n",
       "Edith Kiende Kiogora                        2        84      34            2   \n",
       "Simon Muchiri Ngigii Mbaria                 1        14     311            2   \n",
       "Mwalimu Erick Namusasi Werunga              1         0     158            0   \n",
       "\n",
       "                                Occupation  \n",
       "Name                                        \n",
       "Eng. Paul Chemweno                      28  \n",
       "Edith Kiende Kiogora                   103  \n",
       "Simon Muchiri Ngigii Mbaria            103  \n",
       "Mwalimu Erick Namusasi Werunga         103  \n",
       "\n",
       "[4 rows x 28 columns]"
      ]
     },
     "execution_count": 51,
     "metadata": {},
     "output_type": "execute_result"
    }
   ],
   "source": [
    "Ob_new.head(4)"
   ]
  },
  {
   "cell_type": "code",
   "execution_count": 52,
   "metadata": {},
   "outputs": [],
   "source": [
    "# Split original train and test dataframes\n",
    "test_original=Ob_new[Ob_new.Fundraising==0]\n",
    "train_original=Ob_new[Ob_new.Fundraising!=0]"
   ]
  },
  {
   "cell_type": "markdown",
   "metadata": {},
   "source": [
    "#TRAIN TEST AND SPLIT (Using Train_original DataFrame)"
   ]
  },
  {
   "cell_type": "code",
   "execution_count": 53,
   "metadata": {},
   "outputs": [],
   "source": [
    "from sklearn.model_selection import train_test_split\n",
    "x=train_original.drop(columns=\"Fundraising\")\n",
    "y=train_original[\"Fundraising\"]\n",
    "x_train,x_test,y_train,y_test=train_test_split(x,y,train_size=0.75,random_state=40)"
   ]
  },
  {
   "cell_type": "markdown",
   "metadata": {},
   "source": [
    "# Predictions"
   ]
  },
  {
   "cell_type": "markdown",
   "metadata": {},
   "source": [
    "#Logistic regression"
   ]
  },
  {
   "cell_type": "code",
   "execution_count": 54,
   "metadata": {},
   "outputs": [],
   "source": [
    "from sklearn import metrics"
   ]
  },
  {
   "cell_type": "code",
   "execution_count": 55,
   "metadata": {},
   "outputs": [],
   "source": [
    "from sklearn import linear_model"
   ]
  },
  {
   "cell_type": "code",
   "execution_count": 56,
   "metadata": {},
   "outputs": [
    {
     "data": {
      "text/plain": [
       "LogisticRegression(C=1.0, class_weight=None, dual=False, fit_intercept=True,\n",
       "                   intercept_scaling=1, l1_ratio=None, max_iter=4000,\n",
       "                   multi_class='warn', n_jobs=None, penalty='l2',\n",
       "                   random_state=None, solver='lbfgs', tol=0.0001, verbose=0,\n",
       "                   warm_start=False)"
      ]
     },
     "execution_count": 56,
     "metadata": {},
     "output_type": "execute_result"
    }
   ],
   "source": [
    "log_model = linear_model.LogisticRegression(solver=\"lbfgs\",max_iter=4000)\n",
    "\n",
    "# Train the model\n",
    "log_model.fit(X = pd.DataFrame(x_train), \n",
    "              y = y_train)"
   ]
  },
  {
   "cell_type": "code",
   "execution_count": 57,
   "metadata": {},
   "outputs": [
    {
     "name": "stdout",
     "output_type": "stream",
     "text": [
      "              precision    recall  f1-score   support\n",
      "\n",
      "           1       0.58      0.41      0.48       123\n",
      "           2       0.64      0.78      0.70       163\n",
      "\n",
      "    accuracy                           0.62       286\n",
      "   macro avg       0.61      0.59      0.59       286\n",
      "weighted avg       0.61      0.62      0.60       286\n",
      "\n"
     ]
    }
   ],
   "source": [
    "# View summary of common classification metrics\n",
    "logt_pred=log_model.predict(x_test)\n",
    "print(metrics.classification_report(y_test,logt_pred))"
   ]
  },
  {
   "cell_type": "code",
   "execution_count": 58,
   "metadata": {},
   "outputs": [
    {
     "name": "stdout",
     "output_type": "stream",
     "text": [
      "Confusion Matrix :\n",
      " [[ 50  73]\n",
      " [ 36 127]]\n",
      "CrossTab\n"
     ]
    },
    {
     "data": {
      "text/html": [
       "<div>\n",
       "<style scoped>\n",
       "    .dataframe tbody tr th:only-of-type {\n",
       "        vertical-align: middle;\n",
       "    }\n",
       "\n",
       "    .dataframe tbody tr th {\n",
       "        vertical-align: top;\n",
       "    }\n",
       "\n",
       "    .dataframe thead th {\n",
       "        text-align: right;\n",
       "    }\n",
       "</style>\n",
       "<table border=\"1\" class=\"dataframe\">\n",
       "  <thead>\n",
       "    <tr style=\"text-align: right;\">\n",
       "      <th>col_0</th>\n",
       "      <th>1</th>\n",
       "      <th>2</th>\n",
       "    </tr>\n",
       "    <tr>\n",
       "      <th>Fundraising</th>\n",
       "      <th></th>\n",
       "      <th></th>\n",
       "    </tr>\n",
       "  </thead>\n",
       "  <tbody>\n",
       "    <tr>\n",
       "      <td>1</td>\n",
       "      <td>50</td>\n",
       "      <td>73</td>\n",
       "    </tr>\n",
       "    <tr>\n",
       "      <td>2</td>\n",
       "      <td>36</td>\n",
       "      <td>127</td>\n",
       "    </tr>\n",
       "  </tbody>\n",
       "</table>\n",
       "</div>"
      ],
      "text/plain": [
       "col_0         1    2\n",
       "Fundraising         \n",
       "1            50   73\n",
       "2            36  127"
      ]
     },
     "execution_count": 58,
     "metadata": {},
     "output_type": "execute_result"
    }
   ],
   "source": [
    "# Confusion matrix\n",
    "log_con=metrics.confusion_matrix(y_test,logt_pred)\n",
    "print(\"Confusion Matrix :\\n\",log_con)\n",
    "print(\"CrossTab\")\n",
    "pd.crosstab(y_test,logt_pred)"
   ]
  },
  {
   "cell_type": "code",
   "execution_count": 59,
   "metadata": {},
   "outputs": [
    {
     "name": "stdout",
     "output_type": "stream",
     "text": [
      "Specificity :\n",
      "0.7791411042944786\n",
      "Sensitivity :\n",
      "0.4065040650406504\n"
     ]
    }
   ],
   "source": [
    "print(\"Specificity :\")\n",
    "log_specificity=log_con[1,1]/(log_con[1,1]+log_con[1,0])\n",
    "print(log_specificity)\n",
    "print(\"Sensitivity :\")\n",
    "log_sensitivity=log_con[0,0]/(log_con[0,0]+log_con[0,1])\n",
    "print(log_sensitivity)"
   ]
  },
  {
   "cell_type": "markdown",
   "metadata": {},
   "source": [
    "#Decision Tree"
   ]
  },
  {
   "cell_type": "code",
   "execution_count": 60,
   "metadata": {},
   "outputs": [],
   "source": [
    "from sklearn.tree import DecisionTreeClassifier"
   ]
  },
  {
   "cell_type": "code",
   "execution_count": 61,
   "metadata": {},
   "outputs": [
    {
     "name": "stdout",
     "output_type": "stream",
     "text": [
      "              precision    recall  f1-score   support\n",
      "\n",
      "           1       0.60      0.60      0.60       123\n",
      "           2       0.70      0.70      0.70       163\n",
      "\n",
      "    accuracy                           0.66       286\n",
      "   macro avg       0.65      0.65      0.65       286\n",
      "weighted avg       0.66      0.66      0.66       286\n",
      "\n"
     ]
    }
   ],
   "source": [
    "# Train the model\n",
    "tree_model=DecisionTreeClassifier()\n",
    "tree_model.fit(X = pd.DataFrame(x_train), y = y_train)\n",
    "tree_pred=tree_model.predict(x_test)\n",
    "print(metrics.classification_report(y_test,tree_pred))"
   ]
  },
  {
   "cell_type": "code",
   "execution_count": 62,
   "metadata": {},
   "outputs": [
    {
     "name": "stdout",
     "output_type": "stream",
     "text": [
      "Confusion Matrix:\n",
      "\n",
      "[[ 74  49]\n",
      " [ 49 114]]\n",
      "CrossTab:\n",
      "\n"
     ]
    },
    {
     "data": {
      "text/html": [
       "<div>\n",
       "<style scoped>\n",
       "    .dataframe tbody tr th:only-of-type {\n",
       "        vertical-align: middle;\n",
       "    }\n",
       "\n",
       "    .dataframe tbody tr th {\n",
       "        vertical-align: top;\n",
       "    }\n",
       "\n",
       "    .dataframe thead th {\n",
       "        text-align: right;\n",
       "    }\n",
       "</style>\n",
       "<table border=\"1\" class=\"dataframe\">\n",
       "  <thead>\n",
       "    <tr style=\"text-align: right;\">\n",
       "      <th>col_0</th>\n",
       "      <th>1</th>\n",
       "      <th>2</th>\n",
       "    </tr>\n",
       "    <tr>\n",
       "      <th>Fundraising</th>\n",
       "      <th></th>\n",
       "      <th></th>\n",
       "    </tr>\n",
       "  </thead>\n",
       "  <tbody>\n",
       "    <tr>\n",
       "      <td>1</td>\n",
       "      <td>74</td>\n",
       "      <td>49</td>\n",
       "    </tr>\n",
       "    <tr>\n",
       "      <td>2</td>\n",
       "      <td>49</td>\n",
       "      <td>114</td>\n",
       "    </tr>\n",
       "  </tbody>\n",
       "</table>\n",
       "</div>"
      ],
      "text/plain": [
       "col_0         1    2\n",
       "Fundraising         \n",
       "1            74   49\n",
       "2            49  114"
      ]
     },
     "execution_count": 62,
     "metadata": {},
     "output_type": "execute_result"
    }
   ],
   "source": [
    "print(\"Confusion Matrix:\\n\")\n",
    "tree_con=metrics.confusion_matrix(y_test,tree_pred)\n",
    "print(tree_con)\n",
    "print(\"CrossTab:\\n\")\n",
    "pd.crosstab(y_test,tree_pred)"
   ]
  },
  {
   "cell_type": "code",
   "execution_count": 63,
   "metadata": {},
   "outputs": [
    {
     "name": "stdout",
     "output_type": "stream",
     "text": [
      "Specificity :\n",
      "\n",
      "0.6993865030674846\n",
      "Sensitivity :\n",
      "\n",
      "0.6016260162601627\n"
     ]
    }
   ],
   "source": [
    "print(\"Specificity :\\n\")\n",
    "tree_specificity=tree_con[1,1]/(tree_con[1,1]+tree_con[1,0])\n",
    "print(tree_specificity)\n",
    "print(\"Sensitivity :\\n\")\n",
    "tree_sensitivity=tree_con[0,0]/(tree_con[0,0]+tree_con[0,1])\n",
    "print(tree_sensitivity)"
   ]
  },
  {
   "cell_type": "markdown",
   "metadata": {},
   "source": [
    "#Random Forest"
   ]
  },
  {
   "cell_type": "code",
   "execution_count": 64,
   "metadata": {},
   "outputs": [
    {
     "name": "stdout",
     "output_type": "stream",
     "text": [
      "              precision    recall  f1-score   support\n",
      "\n",
      "           1       0.63      0.61      0.62       123\n",
      "           2       0.71      0.73      0.72       163\n",
      "\n",
      "    accuracy                           0.68       286\n",
      "   macro avg       0.67      0.67      0.67       286\n",
      "weighted avg       0.68      0.68      0.68       286\n",
      "\n"
     ]
    }
   ],
   "source": [
    "from sklearn.ensemble import RandomForestClassifier as RF\n",
    "# Train the model\n",
    "forest = RF(n_estimators=500,\n",
    "             max_features= None) \n",
    "forest.fit(X= x_train,y= y_train)\n",
    "forest_pred = forest.predict(x_test)\n",
    "print(metrics.classification_report(y_test,forest_pred))"
   ]
  },
  {
   "cell_type": "code",
   "execution_count": 65,
   "metadata": {},
   "outputs": [
    {
     "name": "stdout",
     "output_type": "stream",
     "text": [
      "Confusion Matrix\n",
      "[[ 75  48]\n",
      " [ 44 119]]\n",
      "CrossTab\n"
     ]
    },
    {
     "data": {
      "text/html": [
       "<div>\n",
       "<style scoped>\n",
       "    .dataframe tbody tr th:only-of-type {\n",
       "        vertical-align: middle;\n",
       "    }\n",
       "\n",
       "    .dataframe tbody tr th {\n",
       "        vertical-align: top;\n",
       "    }\n",
       "\n",
       "    .dataframe thead th {\n",
       "        text-align: right;\n",
       "    }\n",
       "</style>\n",
       "<table border=\"1\" class=\"dataframe\">\n",
       "  <thead>\n",
       "    <tr style=\"text-align: right;\">\n",
       "      <th>col_0</th>\n",
       "      <th>1</th>\n",
       "      <th>2</th>\n",
       "    </tr>\n",
       "    <tr>\n",
       "      <th>Fundraising</th>\n",
       "      <th></th>\n",
       "      <th></th>\n",
       "    </tr>\n",
       "  </thead>\n",
       "  <tbody>\n",
       "    <tr>\n",
       "      <td>1</td>\n",
       "      <td>75</td>\n",
       "      <td>48</td>\n",
       "    </tr>\n",
       "    <tr>\n",
       "      <td>2</td>\n",
       "      <td>44</td>\n",
       "      <td>119</td>\n",
       "    </tr>\n",
       "  </tbody>\n",
       "</table>\n",
       "</div>"
      ],
      "text/plain": [
       "col_0         1    2\n",
       "Fundraising         \n",
       "1            75   48\n",
       "2            44  119"
      ]
     },
     "execution_count": 65,
     "metadata": {},
     "output_type": "execute_result"
    }
   ],
   "source": [
    "print(\"Confusion Matrix\")\n",
    "forest_con=metrics.confusion_matrix(y_test,forest_pred)\n",
    "print(forest_con)\n",
    "print(\"CrossTab\")\n",
    "pd.crosstab(y_test,forest_pred)"
   ]
  },
  {
   "cell_type": "code",
   "execution_count": 66,
   "metadata": {},
   "outputs": [
    {
     "name": "stdout",
     "output_type": "stream",
     "text": [
      "Specificity :\n",
      "\n",
      "0.7300613496932515\n",
      "Sensitivity :\n",
      "\n",
      "0.6097560975609756\n"
     ]
    }
   ],
   "source": [
    "print(\"Specificity :\\n\")\n",
    "forest_specificity=forest_con[1,1]/(forest_con[1,1]+forest_con[1,0])\n",
    "print(forest_specificity)\n",
    "print(\"Sensitivity :\\n\")\n",
    "forest_sensitivity=forest_con[0,0]/(forest_con[0,0]+forest_con[0,1])\n",
    "print(forest_sensitivity)"
   ]
  },
  {
   "cell_type": "code",
   "execution_count": 67,
   "metadata": {},
   "outputs": [],
   "source": [
    "# Predict the Test original dataset using the Random Forest Classifier"
   ]
  },
  {
   "cell_type": "code",
   "execution_count": 68,
   "metadata": {},
   "outputs": [],
   "source": [
    "x_test_original=test_original.drop(columns=[\"Fundraising\"])\n",
    "y_test_original=forest.predict(x_test_original)\n",
    "\n",
    "# Convert the predicted to dataframe\n",
    "y_test_original=pd.DataFrame(y_test_original)\n"
   ]
  },
  {
   "cell_type": "code",
   "execution_count": 69,
   "metadata": {},
   "outputs": [
    {
     "data": {
      "text/html": [
       "<div>\n",
       "<style scoped>\n",
       "    .dataframe tbody tr th:only-of-type {\n",
       "        vertical-align: middle;\n",
       "    }\n",
       "\n",
       "    .dataframe tbody tr th {\n",
       "        vertical-align: top;\n",
       "    }\n",
       "\n",
       "    .dataframe thead th {\n",
       "        text-align: right;\n",
       "    }\n",
       "</style>\n",
       "<table border=\"1\" class=\"dataframe\">\n",
       "  <thead>\n",
       "    <tr style=\"text-align: right;\">\n",
       "      <th></th>\n",
       "      <th>Fundraising_Predict</th>\n",
       "    </tr>\n",
       "  </thead>\n",
       "  <tbody>\n",
       "    <tr>\n",
       "      <td>0</td>\n",
       "      <td>2</td>\n",
       "    </tr>\n",
       "    <tr>\n",
       "      <td>1</td>\n",
       "      <td>2</td>\n",
       "    </tr>\n",
       "    <tr>\n",
       "      <td>2</td>\n",
       "      <td>2</td>\n",
       "    </tr>\n",
       "    <tr>\n",
       "      <td>3</td>\n",
       "      <td>2</td>\n",
       "    </tr>\n",
       "    <tr>\n",
       "      <td>4</td>\n",
       "      <td>1</td>\n",
       "    </tr>\n",
       "  </tbody>\n",
       "</table>\n",
       "</div>"
      ],
      "text/plain": [
       "   Fundraising_Predict\n",
       "0                    2\n",
       "1                    2\n",
       "2                    2\n",
       "3                    2\n",
       "4                    1"
      ]
     },
     "execution_count": 69,
     "metadata": {},
     "output_type": "execute_result"
    }
   ],
   "source": [
    "# Rename predicted column\n",
    "y_test_original.rename(columns={0:\"Fundraising_Predict\"},inplace=True)\n",
    "y_test_original.head(5)"
   ]
  },
  {
   "cell_type": "code",
   "execution_count": 70,
   "metadata": {},
   "outputs": [
    {
     "data": {
      "text/plain": [
       "(Name\n",
       " Eng. Paul Chemweno                2\n",
       " Edith Kiende Kiogora              2\n",
       " Simon Muchiri Ngigii Mbaria       1\n",
       " Mwalimu Erick Namusasi Werunga    1\n",
       " Catherine Mueni Sina              0\n",
       " Name: Fundraising, dtype: int32, Name\n",
       " Eng. Paul Chemweno                Yes\n",
       " Edith Kiende Kiogora              Yes\n",
       " Simon Muchiri Ngigii Mbaria        No\n",
       " Mwalimu Erick Namusasi Werunga     No\n",
       " Catherine Mueni Sina              NaN\n",
       " Name: Fundraising, dtype: object)"
      ]
     },
     "execution_count": 70,
     "metadata": {},
     "output_type": "execute_result"
    }
   ],
   "source": [
    "Ob_new[\"Fundraising\"].head(), Ob[\"Fundraising\"].head()"
   ]
  },
  {
   "cell_type": "code",
   "execution_count": 71,
   "metadata": {},
   "outputs": [
    {
     "data": {
      "text/html": [
       "<div>\n",
       "<style scoped>\n",
       "    .dataframe tbody tr th:only-of-type {\n",
       "        vertical-align: middle;\n",
       "    }\n",
       "\n",
       "    .dataframe tbody tr th {\n",
       "        vertical-align: top;\n",
       "    }\n",
       "\n",
       "    .dataframe thead th {\n",
       "        text-align: right;\n",
       "    }\n",
       "</style>\n",
       "<table border=\"1\" class=\"dataframe\">\n",
       "  <thead>\n",
       "    <tr style=\"text-align: right;\">\n",
       "      <th></th>\n",
       "      <th>Fundraising_Predict</th>\n",
       "    </tr>\n",
       "  </thead>\n",
       "  <tbody>\n",
       "    <tr>\n",
       "      <td>0</td>\n",
       "      <td>Yes</td>\n",
       "    </tr>\n",
       "    <tr>\n",
       "      <td>1</td>\n",
       "      <td>Yes</td>\n",
       "    </tr>\n",
       "    <tr>\n",
       "      <td>2</td>\n",
       "      <td>Yes</td>\n",
       "    </tr>\n",
       "    <tr>\n",
       "      <td>3</td>\n",
       "      <td>Yes</td>\n",
       "    </tr>\n",
       "    <tr>\n",
       "      <td>4</td>\n",
       "      <td>No</td>\n",
       "    </tr>\n",
       "  </tbody>\n",
       "</table>\n",
       "</div>"
      ],
      "text/plain": [
       "  Fundraising_Predict\n",
       "0                 Yes\n",
       "1                 Yes\n",
       "2                 Yes\n",
       "3                 Yes\n",
       "4                  No"
      ]
     },
     "execution_count": 71,
     "metadata": {},
     "output_type": "execute_result"
    }
   ],
   "source": [
    "# Rename encoded values to original labels\n",
    "y_test_original[\"Fundraising_Predict\"].replace(to_replace=2, value=\"Yes\",inplace=True)\n",
    "y_test_original[\"Fundraising_Predict\"].replace(to_replace=1, value=\"No\",inplace=True)\n",
    "y_test_original.head(5)"
   ]
  },
  {
   "cell_type": "code",
   "execution_count": 72,
   "metadata": {},
   "outputs": [],
   "source": [
    "#Reseting index for concatenation\n",
    "test_original=test_original.reset_index()"
   ]
  },
  {
   "cell_type": "code",
   "execution_count": 73,
   "metadata": {},
   "outputs": [
    {
     "data": {
      "text/html": [
       "<div>\n",
       "<style scoped>\n",
       "    .dataframe tbody tr th:only-of-type {\n",
       "        vertical-align: middle;\n",
       "    }\n",
       "\n",
       "    .dataframe tbody tr th {\n",
       "        vertical-align: top;\n",
       "    }\n",
       "\n",
       "    .dataframe thead th {\n",
       "        text-align: right;\n",
       "    }\n",
       "</style>\n",
       "<table border=\"1\" class=\"dataframe\">\n",
       "  <thead>\n",
       "    <tr style=\"text-align: right;\">\n",
       "      <th></th>\n",
       "      <th>Name</th>\n",
       "      <th>Burial_Day</th>\n",
       "      <th>Burial_Week</th>\n",
       "      <th>Gender</th>\n",
       "      <th>Age</th>\n",
       "      <th>Color</th>\n",
       "      <th>Size</th>\n",
       "      <th>Word_Count</th>\n",
       "      <th>No_of_Children</th>\n",
       "      <th>Significant_Children</th>\n",
       "      <th>...</th>\n",
       "      <th>Distance_Death</th>\n",
       "      <th>Distance_Morgue</th>\n",
       "      <th>Cause_of_Death</th>\n",
       "      <th>Married</th>\n",
       "      <th>Spouse_Alive</th>\n",
       "      <th>Spouse_gender</th>\n",
       "      <th>Hospital</th>\n",
       "      <th>Morgue</th>\n",
       "      <th>Same_Morgue</th>\n",
       "      <th>Occupation</th>\n",
       "    </tr>\n",
       "  </thead>\n",
       "  <tbody>\n",
       "    <tr>\n",
       "      <td>0</td>\n",
       "      <td>Catherine Mueni Sina</td>\n",
       "      <td>3</td>\n",
       "      <td>4</td>\n",
       "      <td>0</td>\n",
       "      <td>41.0</td>\n",
       "      <td>1</td>\n",
       "      <td>55.18</td>\n",
       "      <td>150.0</td>\n",
       "      <td>1.0</td>\n",
       "      <td>0.0</td>\n",
       "      <td>...</td>\n",
       "      <td>378.0</td>\n",
       "      <td>0</td>\n",
       "      <td>3</td>\n",
       "      <td>0</td>\n",
       "      <td>0</td>\n",
       "      <td>2</td>\n",
       "      <td>0</td>\n",
       "      <td>0</td>\n",
       "      <td>0</td>\n",
       "      <td>0</td>\n",
       "    </tr>\n",
       "    <tr>\n",
       "      <td>1</td>\n",
       "      <td>Leah Wanjiru Gaceru Kiratu</td>\n",
       "      <td>6</td>\n",
       "      <td>2</td>\n",
       "      <td>0</td>\n",
       "      <td>0.0</td>\n",
       "      <td>2</td>\n",
       "      <td>85.44</td>\n",
       "      <td>199.0</td>\n",
       "      <td>10.0</td>\n",
       "      <td>9.0</td>\n",
       "      <td>...</td>\n",
       "      <td>0.0</td>\n",
       "      <td>0</td>\n",
       "      <td>0</td>\n",
       "      <td>2</td>\n",
       "      <td>1</td>\n",
       "      <td>2</td>\n",
       "      <td>0</td>\n",
       "      <td>0</td>\n",
       "      <td>0</td>\n",
       "      <td>0</td>\n",
       "    </tr>\n",
       "    <tr>\n",
       "      <td>2</td>\n",
       "      <td>Marvin Eldon Isoe Misonge</td>\n",
       "      <td>1</td>\n",
       "      <td>2</td>\n",
       "      <td>1</td>\n",
       "      <td>24.0</td>\n",
       "      <td>2</td>\n",
       "      <td>84.95</td>\n",
       "      <td>192.0</td>\n",
       "      <td>0.0</td>\n",
       "      <td>0.0</td>\n",
       "      <td>...</td>\n",
       "      <td>10000.0</td>\n",
       "      <td>0</td>\n",
       "      <td>0</td>\n",
       "      <td>1</td>\n",
       "      <td>2</td>\n",
       "      <td>3</td>\n",
       "      <td>0</td>\n",
       "      <td>0</td>\n",
       "      <td>0</td>\n",
       "      <td>0</td>\n",
       "    </tr>\n",
       "    <tr>\n",
       "      <td>3</td>\n",
       "      <td>Ruy Mwendwa Mututo (Ndilah)</td>\n",
       "      <td>0</td>\n",
       "      <td>0</td>\n",
       "      <td>1</td>\n",
       "      <td>0.0</td>\n",
       "      <td>2</td>\n",
       "      <td>55.44</td>\n",
       "      <td>110.0</td>\n",
       "      <td>0.0</td>\n",
       "      <td>0.0</td>\n",
       "      <td>...</td>\n",
       "      <td>0.0</td>\n",
       "      <td>0</td>\n",
       "      <td>0</td>\n",
       "      <td>0</td>\n",
       "      <td>0</td>\n",
       "      <td>0</td>\n",
       "      <td>0</td>\n",
       "      <td>0</td>\n",
       "      <td>0</td>\n",
       "      <td>0</td>\n",
       "    </tr>\n",
       "    <tr>\n",
       "      <td>4</td>\n",
       "      <td>Julia Wanjiru Githure</td>\n",
       "      <td>6</td>\n",
       "      <td>2</td>\n",
       "      <td>0</td>\n",
       "      <td>85.0</td>\n",
       "      <td>2</td>\n",
       "      <td>54.56</td>\n",
       "      <td>252.0</td>\n",
       "      <td>0.0</td>\n",
       "      <td>0.0</td>\n",
       "      <td>...</td>\n",
       "      <td>0.0</td>\n",
       "      <td>0</td>\n",
       "      <td>0</td>\n",
       "      <td>2</td>\n",
       "      <td>0</td>\n",
       "      <td>0</td>\n",
       "      <td>0</td>\n",
       "      <td>0</td>\n",
       "      <td>0</td>\n",
       "      <td>0</td>\n",
       "    </tr>\n",
       "  </tbody>\n",
       "</table>\n",
       "<p>5 rows × 29 columns</p>\n",
       "</div>"
      ],
      "text/plain": [
       "                          Name  Burial_Day  Burial_Week  Gender   Age  Color  \\\n",
       "0         Catherine Mueni Sina           3            4       0  41.0      1   \n",
       "1   Leah Wanjiru Gaceru Kiratu           6            2       0   0.0      2   \n",
       "2    Marvin Eldon Isoe Misonge           1            2       1  24.0      2   \n",
       "3  Ruy Mwendwa Mututo (Ndilah)           0            0       1   0.0      2   \n",
       "4        Julia Wanjiru Githure           6            2       0  85.0      2   \n",
       "\n",
       "    Size  Word_Count  No_of_Children  Significant_Children  ...  \\\n",
       "0  55.18       150.0             1.0                   0.0  ...   \n",
       "1  85.44       199.0            10.0                   9.0  ...   \n",
       "2  84.95       192.0             0.0                   0.0  ...   \n",
       "3  55.44       110.0             0.0                   0.0  ...   \n",
       "4  54.56       252.0             0.0                   0.0  ...   \n",
       "\n",
       "   Distance_Death  Distance_Morgue  Cause_of_Death  Married  Spouse_Alive  \\\n",
       "0           378.0                0               3        0             0   \n",
       "1             0.0                0               0        2             1   \n",
       "2         10000.0                0               0        1             2   \n",
       "3             0.0                0               0        0             0   \n",
       "4             0.0                0               0        2             0   \n",
       "\n",
       "   Spouse_gender  Hospital  Morgue  Same_Morgue  Occupation  \n",
       "0              2         0       0            0           0  \n",
       "1              2         0       0            0           0  \n",
       "2              3         0       0            0           0  \n",
       "3              0         0       0            0           0  \n",
       "4              0         0       0            0           0  \n",
       "\n",
       "[5 rows x 29 columns]"
      ]
     },
     "execution_count": 73,
     "metadata": {},
     "output_type": "execute_result"
    }
   ],
   "source": [
    "test_original.head(5)"
   ]
  },
  {
   "cell_type": "code",
   "execution_count": 74,
   "metadata": {
    "scrolled": true
   },
   "outputs": [
    {
     "data": {
      "text/html": [
       "<div>\n",
       "<style scoped>\n",
       "    .dataframe tbody tr th:only-of-type {\n",
       "        vertical-align: middle;\n",
       "    }\n",
       "\n",
       "    .dataframe tbody tr th {\n",
       "        vertical-align: top;\n",
       "    }\n",
       "\n",
       "    .dataframe thead th {\n",
       "        text-align: right;\n",
       "    }\n",
       "</style>\n",
       "<table border=\"1\" class=\"dataframe\">\n",
       "  <thead>\n",
       "    <tr style=\"text-align: right;\">\n",
       "      <th></th>\n",
       "      <th>Name</th>\n",
       "      <th>Burial_Day</th>\n",
       "      <th>Burial_Week</th>\n",
       "      <th>Gender</th>\n",
       "      <th>Age</th>\n",
       "      <th>Color</th>\n",
       "      <th>Size</th>\n",
       "      <th>Word_Count</th>\n",
       "      <th>No_of_Children</th>\n",
       "      <th>Significant_Children</th>\n",
       "      <th>...</th>\n",
       "      <th>Distance_Morgue</th>\n",
       "      <th>Cause_of_Death</th>\n",
       "      <th>Married</th>\n",
       "      <th>Spouse_Alive</th>\n",
       "      <th>Spouse_gender</th>\n",
       "      <th>Hospital</th>\n",
       "      <th>Morgue</th>\n",
       "      <th>Same_Morgue</th>\n",
       "      <th>Occupation</th>\n",
       "      <th>Fundraising_Predict</th>\n",
       "    </tr>\n",
       "  </thead>\n",
       "  <tbody>\n",
       "    <tr>\n",
       "      <td>0</td>\n",
       "      <td>Catherine Mueni Sina</td>\n",
       "      <td>3</td>\n",
       "      <td>4</td>\n",
       "      <td>0</td>\n",
       "      <td>41.0</td>\n",
       "      <td>1</td>\n",
       "      <td>55.18</td>\n",
       "      <td>150.0</td>\n",
       "      <td>1.0</td>\n",
       "      <td>0.0</td>\n",
       "      <td>...</td>\n",
       "      <td>0</td>\n",
       "      <td>3</td>\n",
       "      <td>0</td>\n",
       "      <td>0</td>\n",
       "      <td>2</td>\n",
       "      <td>0</td>\n",
       "      <td>0</td>\n",
       "      <td>0</td>\n",
       "      <td>0</td>\n",
       "      <td>Yes</td>\n",
       "    </tr>\n",
       "    <tr>\n",
       "      <td>1</td>\n",
       "      <td>Leah Wanjiru Gaceru Kiratu</td>\n",
       "      <td>6</td>\n",
       "      <td>2</td>\n",
       "      <td>0</td>\n",
       "      <td>0.0</td>\n",
       "      <td>2</td>\n",
       "      <td>85.44</td>\n",
       "      <td>199.0</td>\n",
       "      <td>10.0</td>\n",
       "      <td>9.0</td>\n",
       "      <td>...</td>\n",
       "      <td>0</td>\n",
       "      <td>0</td>\n",
       "      <td>2</td>\n",
       "      <td>1</td>\n",
       "      <td>2</td>\n",
       "      <td>0</td>\n",
       "      <td>0</td>\n",
       "      <td>0</td>\n",
       "      <td>0</td>\n",
       "      <td>Yes</td>\n",
       "    </tr>\n",
       "    <tr>\n",
       "      <td>2</td>\n",
       "      <td>Marvin Eldon Isoe Misonge</td>\n",
       "      <td>1</td>\n",
       "      <td>2</td>\n",
       "      <td>1</td>\n",
       "      <td>24.0</td>\n",
       "      <td>2</td>\n",
       "      <td>84.95</td>\n",
       "      <td>192.0</td>\n",
       "      <td>0.0</td>\n",
       "      <td>0.0</td>\n",
       "      <td>...</td>\n",
       "      <td>0</td>\n",
       "      <td>0</td>\n",
       "      <td>1</td>\n",
       "      <td>2</td>\n",
       "      <td>3</td>\n",
       "      <td>0</td>\n",
       "      <td>0</td>\n",
       "      <td>0</td>\n",
       "      <td>0</td>\n",
       "      <td>Yes</td>\n",
       "    </tr>\n",
       "    <tr>\n",
       "      <td>3</td>\n",
       "      <td>Ruy Mwendwa Mututo (Ndilah)</td>\n",
       "      <td>0</td>\n",
       "      <td>0</td>\n",
       "      <td>1</td>\n",
       "      <td>0.0</td>\n",
       "      <td>2</td>\n",
       "      <td>55.44</td>\n",
       "      <td>110.0</td>\n",
       "      <td>0.0</td>\n",
       "      <td>0.0</td>\n",
       "      <td>...</td>\n",
       "      <td>0</td>\n",
       "      <td>0</td>\n",
       "      <td>0</td>\n",
       "      <td>0</td>\n",
       "      <td>0</td>\n",
       "      <td>0</td>\n",
       "      <td>0</td>\n",
       "      <td>0</td>\n",
       "      <td>0</td>\n",
       "      <td>Yes</td>\n",
       "    </tr>\n",
       "    <tr>\n",
       "      <td>4</td>\n",
       "      <td>Julia Wanjiru Githure</td>\n",
       "      <td>6</td>\n",
       "      <td>2</td>\n",
       "      <td>0</td>\n",
       "      <td>85.0</td>\n",
       "      <td>2</td>\n",
       "      <td>54.56</td>\n",
       "      <td>252.0</td>\n",
       "      <td>0.0</td>\n",
       "      <td>0.0</td>\n",
       "      <td>...</td>\n",
       "      <td>0</td>\n",
       "      <td>0</td>\n",
       "      <td>2</td>\n",
       "      <td>0</td>\n",
       "      <td>0</td>\n",
       "      <td>0</td>\n",
       "      <td>0</td>\n",
       "      <td>0</td>\n",
       "      <td>0</td>\n",
       "      <td>No</td>\n",
       "    </tr>\n",
       "  </tbody>\n",
       "</table>\n",
       "<p>5 rows × 30 columns</p>\n",
       "</div>"
      ],
      "text/plain": [
       "                          Name  Burial_Day  Burial_Week  Gender   Age  Color  \\\n",
       "0         Catherine Mueni Sina           3            4       0  41.0      1   \n",
       "1   Leah Wanjiru Gaceru Kiratu           6            2       0   0.0      2   \n",
       "2    Marvin Eldon Isoe Misonge           1            2       1  24.0      2   \n",
       "3  Ruy Mwendwa Mututo (Ndilah)           0            0       1   0.0      2   \n",
       "4        Julia Wanjiru Githure           6            2       0  85.0      2   \n",
       "\n",
       "    Size  Word_Count  No_of_Children  Significant_Children  ...  \\\n",
       "0  55.18       150.0             1.0                   0.0  ...   \n",
       "1  85.44       199.0            10.0                   9.0  ...   \n",
       "2  84.95       192.0             0.0                   0.0  ...   \n",
       "3  55.44       110.0             0.0                   0.0  ...   \n",
       "4  54.56       252.0             0.0                   0.0  ...   \n",
       "\n",
       "   Distance_Morgue  Cause_of_Death  Married  Spouse_Alive  Spouse_gender  \\\n",
       "0                0               3        0             0              2   \n",
       "1                0               0        2             1              2   \n",
       "2                0               0        1             2              3   \n",
       "3                0               0        0             0              0   \n",
       "4                0               0        2             0              0   \n",
       "\n",
       "   Hospital  Morgue  Same_Morgue  Occupation  Fundraising_Predict  \n",
       "0         0       0            0           0                  Yes  \n",
       "1         0       0            0           0                  Yes  \n",
       "2         0       0            0           0                  Yes  \n",
       "3         0       0            0           0                  Yes  \n",
       "4         0       0            0           0                   No  \n",
       "\n",
       "[5 rows x 30 columns]"
      ]
     },
     "execution_count": 74,
     "metadata": {},
     "output_type": "execute_result"
    }
   ],
   "source": [
    "Predicted=pd.concat([test_original,y_test_original],axis=1,sort=False)\n",
    "Predicted.head(5)"
   ]
  },
  {
   "cell_type": "code",
   "execution_count": 75,
   "metadata": {},
   "outputs": [],
   "source": [
    "# Final Submission\n",
    "Predicted.to_csv(\"FundraisingPrediction.csv\")"
   ]
  },
  {
   "cell_type": "code",
   "execution_count": 76,
   "metadata": {},
   "outputs": [],
   "source": [
    "# END"
   ]
  }
 ],
 "metadata": {
  "kernelspec": {
   "display_name": "Python 3",
   "language": "python",
   "name": "python3"
  },
  "language_info": {
   "codemirror_mode": {
    "name": "ipython",
    "version": 3
   },
   "file_extension": ".py",
   "mimetype": "text/x-python",
   "name": "python",
   "nbconvert_exporter": "python",
   "pygments_lexer": "ipython3",
   "version": "3.7.4"
  }
 },
 "nbformat": 4,
 "nbformat_minor": 2
}
